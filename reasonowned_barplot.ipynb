{
 "cells": [
  {
   "cell_type": "markdown",
   "id": "a4ea36b5",
   "metadata": {},
   "source": [
    "### Barplot: Reason for ownership of business\n",
    "- Continuing a family business"
   ]
  },
  {
   "cell_type": "code",
   "execution_count": 1,
   "id": "dcc031a6",
   "metadata": {},
   "outputs": [
    {
     "data": {
      "text/html": [
       "<div>\n",
       "<style scoped>\n",
       "    .dataframe tbody tr th:only-of-type {\n",
       "        vertical-align: middle;\n",
       "    }\n",
       "\n",
       "    .dataframe tbody tr th {\n",
       "        vertical-align: top;\n",
       "    }\n",
       "\n",
       "    .dataframe thead th {\n",
       "        text-align: right;\n",
       "    }\n",
       "</style>\n",
       "<table border=\"1\" class=\"dataframe\">\n",
       "  <thead>\n",
       "    <tr style=\"text-align: right;\">\n",
       "      <th></th>\n",
       "      <th>OWNPDEMP</th>\n",
       "      <th>OWNCHAR</th>\n",
       "      <th>Label</th>\n",
       "    </tr>\n",
       "  </thead>\n",
       "  <tbody>\n",
       "    <tr>\n",
       "      <th>82</th>\n",
       "      <td>2717912</td>\n",
       "      <td>OR1N</td>\n",
       "      <td>Not important</td>\n",
       "    </tr>\n",
       "    <tr>\n",
       "      <th>83</th>\n",
       "      <td>602435</td>\n",
       "      <td>OR1S</td>\n",
       "      <td>Somewhat important</td>\n",
       "    </tr>\n",
       "    <tr>\n",
       "      <th>84</th>\n",
       "      <td>752938</td>\n",
       "      <td>OR1V</td>\n",
       "      <td>Very important</td>\n",
       "    </tr>\n",
       "  </tbody>\n",
       "</table>\n",
       "</div>"
      ],
      "text/plain": [
       "0   OWNPDEMP OWNCHAR               Label\n",
       "82   2717912    OR1N       Not important\n",
       "83    602435    OR1S  Somewhat important\n",
       "84    752938    OR1V      Very important"
      ]
     },
     "execution_count": 1,
     "metadata": {},
     "output_type": "execute_result"
    }
   ],
   "source": [
    "import pandas as pd\n",
    "import matplotlib.pyplot as plt\n",
    "import seaborn as sns\n",
    "\n",
    "owner = pd.read_json(r'https://api.census.gov/data/2018/abscbo?get=NAME,OWNPDEMP,QDESC,OWNCHAR,OWNCHAR_LABEL,OWNER_SEX_LABEL,OWNER_RACE_LABEL&for=us&NAICS2017=00&key=bccfff37a66ca0c564d5d5d80d0236771b334f9b')\n",
    "owner.columns = owner.iloc[0]\n",
    "owner =  owner.iloc[1:].reset_index(drop=True)\n",
    "owner['OWNPDEMP'] = owner['OWNPDEMP'].astype(int)\n",
    "\n",
    "familyowned = owner[['OWNPDEMP','OWNCHAR']]\n",
    "familyowned = familyowned[familyowned['OWNCHAR'].isin(['OR1N','OR1S','OR1V'])]\n",
    "labelmap = {'OR1N':'Not important','OR1S':'Somewhat important','OR1V':'Very important'}\n",
    "familyowned['Label'] = familyowned['OWNCHAR'].map(lambda x: labelmap.get(x))\n",
    "familyowned"
   ]
  },
  {
   "cell_type": "code",
   "execution_count": 2,
   "id": "f976e4aa",
   "metadata": {},
   "outputs": [
    {
     "data": {
      "text/plain": [
       "Text(0, 0.5, 'Number of Business Owners (millions)')"
      ]
     },
     "execution_count": 2,
     "metadata": {},
     "output_type": "execute_result"
    },
    {
     "data": {
      "image/png": "[encoded data removed]",
      "text/plain": [
       "<Figure size 432x288 with 1 Axes>"
      ]
     },
     "metadata": {
      "needs_background": "light"
     },
     "output_type": "display_data"
    }
   ],
   "source": [
    "ax = sns.barplot(x=familyowned['Label'], y=familyowned['OWNPDEMP'], data=familyowned)\n",
    "ax.set_xlabel('Importance of Carrying on the Family Business', size=10)\n",
    "ax.set_ylabel('Number of Business Owners (millions)', size=10) "
   ]
  },
  {
   "cell_type": "code",
   "execution_count": null,
   "id": "0cd9c217",
   "metadata": {},
   "outputs": [],
   "source": []
  }
 ],
 "metadata": {
  "kernelspec": {
   "display_name": "Python 3 (ipykernel)",
   "language": "python",
   "name": "python3"
  },
  "language_info": {
   "codemirror_mode": {
    "name": "ipython",
    "version": 3
   },
   "file_extension": ".py",
   "mimetype": "text/x-python",
   "name": "python",
   "nbconvert_exporter": "python",
   "pygments_lexer": "ipython3",
   "version": "3.9.12"
  }
 },
 "nbformat": 4,
 "nbformat_minor": 5
}
