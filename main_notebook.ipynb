{
 "cells": [
  {
   "cell_type": "markdown",
   "metadata": {},
   "source": [
    "# Family Owned Business Performance\n",
    "## Annual Business Survey - ETL and Graph Plotting\n",
    "\n",
    "We wanted to look at family owned businesses and see how they compare with businesses that are not family owned. This notebook can be run in its entirety to reload the data and reproduce the graphs. Make sure to add your API key to the config file."
   ]
  },
  {
   "cell_type": "markdown",
   "metadata": {},
   "source": [
    "### Datasets\n",
    "#### 2019 Annual Business Survey by U.S Census Bureau\n",
    "\n",
    "**Characteristics of Businesses**\n",
    "\n",
    "api.census.gov/data/2018/abscb.html\n",
    "\n",
    "**Characteristics of Business Owners**\n",
    "\n",
    "api.census.gov/data/2018/abscbo.html\n",
    "\n"
   ]
  },
  {
   "cell_type": "markdown",
   "metadata": {},
   "source": [
    "### Questions\n",
    "\n",
    "What can we learn about business owners of family-owned businesses vs non-family-owned businesses?\n",
    "- How do the owners of family-owned businesses vs non-family-owned businesses compare by sex?\n",
    "- How do the owners of family-owned businesses vs non-family-owned businesses compare by race?\n",
    "- How do owners rate the importance of carrying on the family business?\n",
    "\n",
    "What differences can we learn about the size and performance of family-owned businesses vs non-family-owned businesses?\n",
    "- How does firm revenue size category break down between family owned and non-family-owned businesses?\n",
    "- Do family-owned businesses have more employees?\n",
    "- How does the number of employees break down between family-owned and non-family-owned businesses?\n",
    "- How long have family-owned businesses been operating?\n",
    "\n",
    "What else can we learn about family-owned businesses?\n",
    "- Are family-owned businesses more concentrated in certain industries?\n",
    "- Which states have the most family-owned businesses?\n",
    "- Which states have the highest percentage of family-owned businesses?\n",
    "- Which states have the most employees per family-owned business?\n",
    "- How does the average annual payroll of family-owned businesses compare per state?"
   ]
  },
  {
   "cell_type": "code",
   "execution_count": 70,
   "metadata": {},
   "outputs": [],
   "source": [
    "# Import Needed Libraries\n",
    "import pandas as pd\n",
    "import matplotlib.pyplot as plt\n",
    "import seaborn as sns\n",
    "from config import api_key\n",
    "import plotly.graph_objects as go\n",
    "import requests\n",
    "import numpy as np"
   ]
  },
  {
   "cell_type": "markdown",
   "metadata": {},
   "source": [
    "\n",
    "To extract, we first queried the API using a link to the Census API website. Then we dropped the first row and make it the header for the table. We also switched the FIRMPDEMP (number of firms) into an integer and NAME into a string."
   ]
  },
  {
   "cell_type": "code",
   "execution_count": 5,
   "metadata": {},
   "outputs": [
    {
     "data": {
      "text/html": [
       "<div>\n",
       "<style scoped>\n",
       "    .dataframe tbody tr th:only-of-type {\n",
       "        vertical-align: middle;\n",
       "    }\n",
       "\n",
       "    .dataframe tbody tr th {\n",
       "        vertical-align: top;\n",
       "    }\n",
       "\n",
       "    .dataframe thead th {\n",
       "        text-align: right;\n",
       "    }\n",
       "</style>\n",
       "<table border=\"1\" class=\"dataframe\">\n",
       "  <thead>\n",
       "    <tr style=\"text-align: right;\">\n",
       "      <th></th>\n",
       "      <th>NAME</th>\n",
       "      <th>FIRMPDEMP</th>\n",
       "      <th>NAICS2017</th>\n",
       "      <th>us</th>\n",
       "    </tr>\n",
       "  </thead>\n",
       "  <tbody>\n",
       "    <tr>\n",
       "      <th>0</th>\n",
       "      <td>United States</td>\n",
       "      <td>5722142</td>\n",
       "      <td>00</td>\n",
       "      <td>1</td>\n",
       "    </tr>\n",
       "  </tbody>\n",
       "</table>\n",
       "</div>"
      ],
      "text/plain": [
       "0           NAME  FIRMPDEMP NAICS2017 us\n",
       "0  United States    5722142        00  1"
      ]
     },
     "execution_count": 5,
     "metadata": {},
     "output_type": "execute_result"
    }
   ],
   "source": [
    "company = pd.read_json(f'https://api.census.gov/data/2018/abscs?get=NAME,FIRMPDEMP&for=us&NAICS2017=00&key={api_key}')\n",
    "company.columns = company.iloc[0]\n",
    "company =  company.iloc[1:].reset_index(drop=True)\n",
    "company['NAME'] = company['NAME'].astype(str)\n",
    "company['FIRMPDEMP'] = company['FIRMPDEMP'].astype(int)\n",
    "company\n",
    "# Returns Total Firms in US"
   ]
  },
  {
   "cell_type": "markdown",
   "metadata": {},
   "source": [
    "Much like the last query, we extracted via the API link. Renamed columns and switched variable types. The header fix was needed on all of our queries to get the data to be usable.\n"
   ]
  },
  {
   "cell_type": "code",
   "execution_count": 6,
   "metadata": {},
   "outputs": [
    {
     "data": {
      "text/html": [
       "<div>\n",
       "<style scoped>\n",
       "    .dataframe tbody tr th:only-of-type {\n",
       "        vertical-align: middle;\n",
       "    }\n",
       "\n",
       "    .dataframe tbody tr th {\n",
       "        vertical-align: top;\n",
       "    }\n",
       "\n",
       "    .dataframe thead th {\n",
       "        text-align: right;\n",
       "    }\n",
       "</style>\n",
       "<table border=\"1\" class=\"dataframe\">\n",
       "  <thead>\n",
       "    <tr style=\"text-align: right;\">\n",
       "      <th></th>\n",
       "      <th>Ownership</th>\n",
       "      <th>QDESC</th>\n",
       "      <th>QDESC_LABEL</th>\n",
       "      <th>FIRM_COUNT</th>\n",
       "      <th>EMP</th>\n",
       "      <th>BUSCHAR</th>\n",
       "      <th>us</th>\n",
       "    </tr>\n",
       "  </thead>\n",
       "  <tbody>\n",
       "    <tr>\n",
       "      <th>0</th>\n",
       "      <td>Family-owned</td>\n",
       "      <td>B02</td>\n",
       "      <td>FAMOWN</td>\n",
       "      <td>787775</td>\n",
       "      <td>8048586</td>\n",
       "      <td>BM</td>\n",
       "      <td>1</td>\n",
       "    </tr>\n",
       "    <tr>\n",
       "      <th>1</th>\n",
       "      <td>Not family-owned</td>\n",
       "      <td>B02</td>\n",
       "      <td>FAMOWN</td>\n",
       "      <td>1893857</td>\n",
       "      <td>14397079</td>\n",
       "      <td>BN</td>\n",
       "      <td>1</td>\n",
       "    </tr>\n",
       "  </tbody>\n",
       "</table>\n",
       "</div>"
      ],
      "text/plain": [
       "0         Ownership QDESC QDESC_LABEL  FIRM_COUNT       EMP BUSCHAR us\n",
       "0      Family-owned   B02      FAMOWN      787775   8048586      BM  1\n",
       "1  Not family-owned   B02      FAMOWN     1893857  14397079      BN  1"
      ]
     },
     "execution_count": 6,
     "metadata": {},
     "output_type": "execute_result"
    }
   ],
   "source": [
    "business = pd.read_json(f'http://api.census.gov/data/2018/abscb?get=BUSCHAR_LABEL,QDESC,QDESC_LABEL,FIRMPDEMP,EMP&for=us&BUSCHAR=BM&BUSCHAR=BN&key={api_key}')\n",
    "\n",
    "# Fix Headers\n",
    "business.columns = business.iloc[0]\n",
    "business = business.iloc[1:].reset_index(drop=True)\n",
    "# Rename Columns\n",
    "business.rename(columns={'FIRMPDEMP':'FIRM_COUNT','BUSCHAR_LABEL':'Ownership'}, inplace=True)\n",
    "# Change Data Types\n",
    "business['FIRM_COUNT'] = business['FIRM_COUNT'].astype(int)\n",
    "business['EMP'] = business['EMP'].astype(int)\n",
    "business\n",
    "# Shows US Family and Non Family Owned Businesses"
   ]
  },
  {
   "cell_type": "markdown",
   "metadata": {},
   "source": [
    "We calculated a new field with the average and added it to the business dataframe\n"
   ]
  },
  {
   "cell_type": "code",
   "execution_count": 7,
   "metadata": {},
   "outputs": [
    {
     "data": {
      "text/html": [
       "<div>\n",
       "<style scoped>\n",
       "    .dataframe tbody tr th:only-of-type {\n",
       "        vertical-align: middle;\n",
       "    }\n",
       "\n",
       "    .dataframe tbody tr th {\n",
       "        vertical-align: top;\n",
       "    }\n",
       "\n",
       "    .dataframe thead th {\n",
       "        text-align: right;\n",
       "    }\n",
       "</style>\n",
       "<table border=\"1\" class=\"dataframe\">\n",
       "  <thead>\n",
       "    <tr style=\"text-align: right;\">\n",
       "      <th></th>\n",
       "      <th>Ownership</th>\n",
       "      <th>QDESC</th>\n",
       "      <th>QDESC_LABEL</th>\n",
       "      <th>FIRM_COUNT</th>\n",
       "      <th>EMP</th>\n",
       "      <th>BUSCHAR</th>\n",
       "      <th>us</th>\n",
       "      <th>avg_emp_per_firm</th>\n",
       "    </tr>\n",
       "  </thead>\n",
       "  <tbody>\n",
       "    <tr>\n",
       "      <th>0</th>\n",
       "      <td>Family-owned</td>\n",
       "      <td>B02</td>\n",
       "      <td>FAMOWN</td>\n",
       "      <td>787775</td>\n",
       "      <td>8048586</td>\n",
       "      <td>BM</td>\n",
       "      <td>1</td>\n",
       "      <td>10.216859</td>\n",
       "    </tr>\n",
       "    <tr>\n",
       "      <th>1</th>\n",
       "      <td>Not family-owned</td>\n",
       "      <td>B02</td>\n",
       "      <td>FAMOWN</td>\n",
       "      <td>1893857</td>\n",
       "      <td>14397079</td>\n",
       "      <td>BN</td>\n",
       "      <td>1</td>\n",
       "      <td>7.601988</td>\n",
       "    </tr>\n",
       "  </tbody>\n",
       "</table>\n",
       "</div>"
      ],
      "text/plain": [
       "0         Ownership QDESC QDESC_LABEL  FIRM_COUNT       EMP BUSCHAR us  \\\n",
       "0      Family-owned   B02      FAMOWN      787775   8048586      BM  1   \n",
       "1  Not family-owned   B02      FAMOWN     1893857  14397079      BN  1   \n",
       "\n",
       "0  avg_emp_per_firm  \n",
       "0         10.216859  \n",
       "1          7.601988  "
      ]
     },
     "execution_count": 7,
     "metadata": {},
     "output_type": "execute_result"
    }
   ],
   "source": [
    "business['avg_emp_per_firm'] = business['EMP'] / business['FIRM_COUNT']\n",
    "business"
   ]
  },
  {
   "cell_type": "markdown",
   "metadata": {},
   "source": [
    "We merged the two dataframes together and kept the columns we needed."
   ]
  },
  {
   "cell_type": "code",
   "execution_count": 8,
   "metadata": {},
   "outputs": [
    {
     "data": {
      "text/html": [
       "<div>\n",
       "<style scoped>\n",
       "    .dataframe tbody tr th:only-of-type {\n",
       "        vertical-align: middle;\n",
       "    }\n",
       "\n",
       "    .dataframe tbody tr th {\n",
       "        vertical-align: top;\n",
       "    }\n",
       "\n",
       "    .dataframe thead th {\n",
       "        text-align: right;\n",
       "    }\n",
       "</style>\n",
       "<table border=\"1\" class=\"dataframe\">\n",
       "  <thead>\n",
       "    <tr style=\"text-align: right;\">\n",
       "      <th></th>\n",
       "      <th>NAME</th>\n",
       "      <th>Ownership</th>\n",
       "      <th>FIRMPDEMP</th>\n",
       "      <th>us</th>\n",
       "      <th>FIRM_COUNT</th>\n",
       "      <th>EMP</th>\n",
       "      <th>avg_emp_per_firm</th>\n",
       "    </tr>\n",
       "  </thead>\n",
       "  <tbody>\n",
       "    <tr>\n",
       "      <th>0</th>\n",
       "      <td>United States</td>\n",
       "      <td>Family-owned</td>\n",
       "      <td>5722142</td>\n",
       "      <td>1</td>\n",
       "      <td>787775</td>\n",
       "      <td>8048586</td>\n",
       "      <td>10.216859</td>\n",
       "    </tr>\n",
       "    <tr>\n",
       "      <th>1</th>\n",
       "      <td>United States</td>\n",
       "      <td>Not family-owned</td>\n",
       "      <td>5722142</td>\n",
       "      <td>1</td>\n",
       "      <td>1893857</td>\n",
       "      <td>14397079</td>\n",
       "      <td>7.601988</td>\n",
       "    </tr>\n",
       "  </tbody>\n",
       "</table>\n",
       "</div>"
      ],
      "text/plain": [
       "0           NAME         Ownership  FIRMPDEMP us  FIRM_COUNT       EMP  \\\n",
       "0  United States      Family-owned    5722142  1      787775   8048586   \n",
       "1  United States  Not family-owned    5722142  1     1893857  14397079   \n",
       "\n",
       "0  avg_emp_per_firm  \n",
       "0         10.216859  \n",
       "1          7.601988  "
      ]
     },
     "execution_count": 8,
     "metadata": {},
     "output_type": "execute_result"
    }
   ],
   "source": [
    "cs_bc = company.merge(business, how='inner', on=[\"us\"])\n",
    "cs_bc = cs_bc[['NAME','Ownership','FIRMPDEMP','us','FIRM_COUNT','EMP','avg_emp_per_firm']]\n",
    "\n",
    "cs_bc"
   ]
  },
  {
   "cell_type": "code",
   "execution_count": 12,
   "metadata": {},
   "outputs": [
    {
     "data": {
      "text/plain": [
       "Text(0.5, 1.0, 'Average Employess per Firm, Family and Not Family Owned')"
      ]
     },
     "execution_count": 12,
     "metadata": {},
     "output_type": "execute_result"
    },
    {
     "data": {
      "image/png": "[encoded data removed]",
      "text/plain": [
       "<Figure size 864x576 with 1 Axes>"
      ]
     },
     "metadata": {
      "needs_background": "light"
     },
     "output_type": "display_data"
    }
   ],
   "source": [
    "# Bar Chart comparing Family-Owned and Not Family-Owned Businesses in the US\n",
    "plt.figure(figsize = (12,8))\n",
    "ax = sns.barplot(x=cs_bc[0:50]['NAME'], y=cs_bc[0:50]['avg_emp_per_firm'], hue='Ownership', \n",
    "    palette=['#5932C4', '#C45932'], data=cs_bc)\n",
    "ax.set_xticklabels(ax.get_xticklabels())\n",
    "ax.set_xlabel('United States', size=18)\n",
    "ax.set_ylabel('Avg Number of Employees per Firm', size=18)\n",
    "ax.set_title('Average Employess per Firm, Family and Not Family Owned')"
   ]
  },
  {
   "cell_type": "markdown",
   "metadata": {},
   "source": [
    "We called the API to get the business characteristics data for the length of business existence/survival."
   ]
  },
  {
   "cell_type": "code",
   "execution_count": 13,
   "metadata": {},
   "outputs": [
    {
     "data": {
      "text/html": [
       "<div>\n",
       "<style scoped>\n",
       "    .dataframe tbody tr th:only-of-type {\n",
       "        vertical-align: middle;\n",
       "    }\n",
       "\n",
       "    .dataframe tbody tr th {\n",
       "        vertical-align: top;\n",
       "    }\n",
       "\n",
       "    .dataframe thead th {\n",
       "        text-align: right;\n",
       "    }\n",
       "</style>\n",
       "<table border=\"1\" class=\"dataframe\">\n",
       "  <thead>\n",
       "    <tr style=\"text-align: right;\">\n",
       "      <th></th>\n",
       "      <th>Ownership</th>\n",
       "      <th>YIBSZFI_LABEL</th>\n",
       "      <th>FIRM_COUNT</th>\n",
       "      <th>us</th>\n",
       "    </tr>\n",
       "  </thead>\n",
       "  <tbody>\n",
       "    <tr>\n",
       "      <th>0</th>\n",
       "      <td>Family-owned</td>\n",
       "      <td>2 to 3 Years</td>\n",
       "      <td>84089</td>\n",
       "      <td>1</td>\n",
       "    </tr>\n",
       "    <tr>\n",
       "      <th>1</th>\n",
       "      <td>Not family-owned</td>\n",
       "      <td>2 to 3 Years</td>\n",
       "      <td>242514</td>\n",
       "      <td>1</td>\n",
       "    </tr>\n",
       "  </tbody>\n",
       "</table>\n",
       "</div>"
      ],
      "text/plain": [
       "0         Ownership YIBSZFI_LABEL  FIRM_COUNT us\n",
       "0      Family-owned  2 to 3 Years       84089  1\n",
       "1  Not family-owned  2 to 3 Years      242514  1"
      ]
     },
     "execution_count": 13,
     "metadata": {},
     "output_type": "execute_result"
    }
   ],
   "source": [
    "business_survival = pd.read_json(f'http://api.census.gov/data/2018/abscb?get=BUSCHAR_LABEL,QDESC,QDESC_LABEL,YIBSZFI_LABEL,FIRMPDEMP,EMP&for=us&BUSCHAR=BM&BUSCHAR=BN&YIBSZFI!=001&key={api_key}')\n",
    "# Fixed Headers\n",
    "business_survival.columns = business_survival.iloc[0]\n",
    "business_survival = business_survival.iloc[1:].reset_index(drop=True)\n",
    "# Renamed Columns\n",
    "business_survival.rename(columns={'FIRMPDEMP':'FIRM_COUNT','BUSCHAR_LABEL':'Ownership'}, inplace=True)\n",
    "# Changed Data Types\n",
    "business_survival['FIRM_COUNT'] = business_survival['FIRM_COUNT'].astype(int)\n",
    "business_survival['EMP'] = business_survival['EMP'].astype(int)\n",
    "business_survival = business_survival[['Ownership','YIBSZFI_LABEL','FIRM_COUNT','us']]\n",
    "# Changed Labels to Make them Shorter\n",
    "business_survival.loc[ business_survival['YIBSZFI_LABEL'] == 'Firms with 2 to 3 years in business', 'YIBSZFI_LABEL'] = '2 to 3 Years'\n",
    "business_survival.loc[ business_survival['YIBSZFI_LABEL'] == 'Firms with 4 to 5 years in business', 'YIBSZFI_LABEL'] = '4 to 5 Years'\n",
    "business_survival.loc[ business_survival['YIBSZFI_LABEL'] == 'Firms with 6 to 10 years in business', 'YIBSZFI_LABEL'] = '6 to 10 Years'\n",
    "business_survival.loc[ business_survival['YIBSZFI_LABEL'] == 'Firms with 11 to 15 years in business', 'YIBSZFI_LABEL'] = '11 to 15 Years'\n",
    "business_survival.loc[ business_survival['YIBSZFI_LABEL'] == 'Firms with 16 or more years in business', 'YIBSZFI_LABEL'] = '16 or More Years'\n",
    "business_survival.loc[ business_survival['YIBSZFI_LABEL'] == 'Firms with less than 2 years in business', 'YIBSZFI_LABEL'] = 'Less Than 2 Years'\n",
    "\n",
    "business_survival.head(2)"
   ]
  },
  {
   "cell_type": "code",
   "execution_count": 15,
   "metadata": {},
   "outputs": [
    {
     "data": {
      "text/plain": [
       "Text(0.5, 1.0, 'Length of Time in Business, Family and Not Family Owned')"
      ]
     },
     "execution_count": 15,
     "metadata": {},
     "output_type": "execute_result"
    },
    {
     "data": {
      "image/png": "[encoded data removed]",
      "text/plain": [
       "<Figure size 864x576 with 1 Axes>"
      ]
     },
     "metadata": {
      "needs_background": "light"
     },
     "output_type": "display_data"
    }
   ],
   "source": [
    "# Bar plot for Length of Time in Business, Family and Not Family Owned\n",
    "plt.figure(figsize = (12,8))\n",
    "ax = sns.barplot(x=business_survival['YIBSZFI_LABEL'], y=business_survival['FIRM_COUNT'], hue='Ownership', \n",
    "    palette=['#5932C4', '#C45932'], data=business_survival)\n",
    "ax.set_xticklabels(ax.get_xticklabels(), rotation=45)\n",
    "ax.set_xlabel('Length of Time in Business', size=18)\n",
    "ax.set_ylabel('Number of Businesses (2019)', size=18)\n",
    "ax.set_title('Length of Time in Business, Family and Not Family Owned')"
   ]
  },
  {
   "cell_type": "markdown",
   "metadata": {},
   "source": [
    "We loaded up a business characteristics query to get the number of family owned businesses in each industry."
   ]
  },
  {
   "cell_type": "code",
   "execution_count": 17,
   "metadata": {},
   "outputs": [
    {
     "data": {
      "text/html": [
       "<div>\n",
       "<style scoped>\n",
       "    .dataframe tbody tr th:only-of-type {\n",
       "        vertical-align: middle;\n",
       "    }\n",
       "\n",
       "    .dataframe tbody tr th {\n",
       "        vertical-align: top;\n",
       "    }\n",
       "\n",
       "    .dataframe thead th {\n",
       "        text-align: right;\n",
       "    }\n",
       "</style>\n",
       "<table border=\"1\" class=\"dataframe\">\n",
       "  <thead>\n",
       "    <tr style=\"text-align: right;\">\n",
       "      <th></th>\n",
       "      <th>BUSCHAR_LABEL</th>\n",
       "      <th>QDESC_LABEL</th>\n",
       "      <th>NAICS2017_LABEL</th>\n",
       "      <th>FIRMPDEMP</th>\n",
       "      <th>BUSCHAR</th>\n",
       "      <th>QDESC</th>\n",
       "      <th>NAICS2017</th>\n",
       "      <th>us</th>\n",
       "    </tr>\n",
       "  </thead>\n",
       "  <tbody>\n",
       "    <tr>\n",
       "      <th>0</th>\n",
       "      <td>Family-owned</td>\n",
       "      <td>FAMOWN</td>\n",
       "      <td>Agriculture, forestry, fishing and hunting</td>\n",
       "      <td>4760</td>\n",
       "      <td>BM</td>\n",
       "      <td>B02</td>\n",
       "      <td>11</td>\n",
       "      <td>1</td>\n",
       "    </tr>\n",
       "    <tr>\n",
       "      <th>1</th>\n",
       "      <td>Family-owned</td>\n",
       "      <td>FAMOWN</td>\n",
       "      <td>Mining, quarrying, and oil and gas extraction</td>\n",
       "      <td>2868</td>\n",
       "      <td>BM</td>\n",
       "      <td>B02</td>\n",
       "      <td>21</td>\n",
       "      <td>1</td>\n",
       "    </tr>\n",
       "  </tbody>\n",
       "</table>\n",
       "</div>"
      ],
      "text/plain": [
       "0 BUSCHAR_LABEL QDESC_LABEL                                NAICS2017_LABEL  \\\n",
       "0  Family-owned      FAMOWN     Agriculture, forestry, fishing and hunting   \n",
       "1  Family-owned      FAMOWN  Mining, quarrying, and oil and gas extraction   \n",
       "\n",
       "0  FIRMPDEMP BUSCHAR QDESC NAICS2017 us  \n",
       "0       4760      BM   B02        11  1  \n",
       "1       2868      BM   B02        21  1  "
      ]
     },
     "execution_count": 17,
     "metadata": {},
     "output_type": "execute_result"
    }
   ],
   "source": [
    "business_industry = pd.read_json(f'http://api.census.gov/data/2018/abscb?get=BUSCHAR_LABEL,QDESC_LABEL,NAICS2017_LABEL,FIRMPDEMP&for=us&BUSCHAR=BM&QDESC=B02&NAICS2017!=00&key={api_key}')\n",
    "# Fixed Headers\n",
    "business_industry.columns = business_industry.iloc[0]\n",
    "business_industry = business_industry.iloc[1:].reset_index(drop=True)\n",
    "# Changed data type and reduced columns\n",
    "business_industry['FIRMPDEMP'] = business_industry['FIRMPDEMP'].astype(int)\n",
    "business_industry[['BUSCHAR_LABEL','NAICS2017_LABEL','FIRMPDEMP','NAICS2017','us']]\n",
    "\n",
    "business_industry.head(2)"
   ]
  },
  {
   "cell_type": "code",
   "execution_count": 19,
   "metadata": {},
   "outputs": [],
   "source": [
    "# Sorted values for horizontal bar graph\n",
    "sorted_business_industry = business_industry.sort_values(by=['FIRMPDEMP'], ascending=False)"
   ]
  },
  {
   "cell_type": "code",
   "execution_count": 20,
   "metadata": {},
   "outputs": [
    {
     "data": {
      "text/plain": [
       "Text(0.5, 1.0, 'Family Owned Businesses By Industry')"
      ]
     },
     "execution_count": 20,
     "metadata": {},
     "output_type": "execute_result"
    },
    {
     "data": {
      "image/png": "[encoded data removed]",
      "text/plain": [
       "<Figure size 864x576 with 1 Axes>"
      ]
     },
     "metadata": {},
     "output_type": "display_data"
    }
   ],
   "source": [
    "# Created a Horizontal Bar Chart for Family Owned Businesses By Industry\n",
    "sns.set_theme(style='whitegrid')\n",
    "plt.figure(figsize = (12,8))\n",
    "# plt.bar(color='#5932C4')\n",
    "ax = sns.barplot(x=sorted_business_industry['FIRMPDEMP'], y=sorted_business_industry['NAICS2017_LABEL'], color='#5932C4', data=sorted_business_industry)\n",
    "# ax.set_xticklabels(ax.get_xticklabels())\n",
    "ax.set_xlabel('Number of Businesses (2019 Census)', size=18)\n",
    "ax.set_ylabel('Industry Sector', size=18)\n",
    "ax.set_title('Family Owned Businesses By Industry')"
   ]
  },
  {
   "cell_type": "markdown",
   "metadata": {},
   "source": [
    "### Bar Charts: Family Owned vs. Non Family Owned Business Stats\n",
    "- Employment Size Categories\n",
    "- Revenue Size Categories\n",
    "- Years in Business Categories"
   ]
  },
  {
   "cell_type": "code",
   "execution_count": 22,
   "metadata": {},
   "outputs": [],
   "source": [
    "def cleanCensusAPIData(url):\n",
    "    response = requests.get(url)\n",
    "    raw = response.text\n",
    "    rawlist = raw.split(',\\n')\n",
    "    newlist = []\n",
    "    for i in rawlist:\n",
    "        a = i.strip('[]\"\"')\n",
    "        b = a.split('\",\"')\n",
    "        newlist.append(b)\n",
    "    df = pd.DataFrame(newlist[1:], columns=newlist[0])\n",
    "    return df\n",
    "\n",
    "# gets API link and calls previous function to spit out dataframe\n",
    "def getAPI(dataset, params, geolocation='state', ic='00'):\n",
    "    apilink = (f\"https://api.census.gov/data/2018/{dataset}?get={params}&for={geolocation}:*&NAICS2017={ic}\")\n",
    "    df = cleanCensusAPIData(apilink)\n",
    "    return df"
   ]
  },
  {
   "cell_type": "code",
   "execution_count": 23,
   "metadata": {},
   "outputs": [
    {
     "name": "stderr",
     "output_type": "stream",
     "text": [
      "C:\\Users\\nmorr\\AppData\\Local\\Temp\\ipykernel_19756\\2200318513.py:9: SettingWithCopyWarning: \n",
      "A value is trying to be set on a copy of a slice from a DataFrame.\n",
      "Try using .loc[row_indexer,col_indexer] = value instead\n",
      "\n",
      "See the caveats in the documentation: https://pandas.pydata.org/pandas-docs/stable/user_guide/indexing.html#returning-a-view-versus-a-copy\n",
      "  familyowned['FIRMPDEMP'] = familyowned['FIRMPDEMP'].astype(int)\n"
     ]
    },
    {
     "data": {
      "text/html": [
       "<div>\n",
       "<style scoped>\n",
       "    .dataframe tbody tr th:only-of-type {\n",
       "        vertical-align: middle;\n",
       "    }\n",
       "\n",
       "    .dataframe tbody tr th {\n",
       "        vertical-align: top;\n",
       "    }\n",
       "\n",
       "    .dataframe thead th {\n",
       "        text-align: right;\n",
       "    }\n",
       "</style>\n",
       "<table border=\"1\" class=\"dataframe\">\n",
       "  <thead>\n",
       "    <tr style=\"text-align: right;\">\n",
       "      <th></th>\n",
       "      <th>NAME</th>\n",
       "      <th>GEO_ID</th>\n",
       "      <th>PAYANN</th>\n",
       "      <th>EMP</th>\n",
       "      <th>QDESC</th>\n",
       "      <th>QDESC_LABEL</th>\n",
       "      <th>BUSCHAR</th>\n",
       "      <th>Ownership</th>\n",
       "      <th>FIRMPDEMP</th>\n",
       "      <th>YIBSZFI</th>\n",
       "      <th>RCPSZFI</th>\n",
       "      <th>EMPSZFI</th>\n",
       "      <th>NAICS2017</th>\n",
       "      <th>us</th>\n",
       "    </tr>\n",
       "  </thead>\n",
       "  <tbody>\n",
       "    <tr>\n",
       "      <th>204</th>\n",
       "      <td>United States</td>\n",
       "      <td>0100000US</td>\n",
       "      <td>16604437</td>\n",
       "      <td>545655</td>\n",
       "      <td>B02</td>\n",
       "      <td>FAMOWN</td>\n",
       "      <td>BM</td>\n",
       "      <td>Family-owned</td>\n",
       "      <td>84089</td>\n",
       "      <td>318</td>\n",
       "      <td>001</td>\n",
       "      <td>001</td>\n",
       "      <td>00</td>\n",
       "      <td>1</td>\n",
       "    </tr>\n",
       "    <tr>\n",
       "      <th>205</th>\n",
       "      <td>United States</td>\n",
       "      <td>0100000US</td>\n",
       "      <td>46678795</td>\n",
       "      <td>1473911</td>\n",
       "      <td>B02</td>\n",
       "      <td>FAMOWN</td>\n",
       "      <td>BN</td>\n",
       "      <td>Not family-owned</td>\n",
       "      <td>242514</td>\n",
       "      <td>318</td>\n",
       "      <td>001</td>\n",
       "      <td>001</td>\n",
       "      <td>00</td>\n",
       "      <td>1</td>\n",
       "    </tr>\n",
       "  </tbody>\n",
       "</table>\n",
       "</div>"
      ],
      "text/plain": [
       "              NAME     GEO_ID    PAYANN      EMP QDESC QDESC_LABEL BUSCHAR  \\\n",
       "204  United States  0100000US  16604437   545655   B02      FAMOWN      BM   \n",
       "205  United States  0100000US  46678795  1473911   B02      FAMOWN      BN   \n",
       "\n",
       "            Ownership  FIRMPDEMP YIBSZFI RCPSZFI EMPSZFI NAICS2017 us  \n",
       "204      Family-owned      84089     318     001     001        00  1  \n",
       "205  Not family-owned     242514     318     001     001        00  1  "
      ]
     },
     "execution_count": 23,
     "metadata": {},
     "output_type": "execute_result"
    }
   ],
   "source": [
    "# finds characteristics of business data, \n",
    "variables = \"NAME,GEO_ID,PAYANN,EMP,QDESC,QDESC_LABEL,BUSCHAR,BUSCHAR_LABEL,FIRMPDEMP,YIBSZFI,RCPSZFI,EMPSZFI\"\n",
    "abscb = getAPI(\"abscb\",variables,geolocation='us')\n",
    "\n",
    "# filters for family owned and non family owned stats\n",
    "familyowned = abscb[((abscb['BUSCHAR_LABEL']=='Family-owned') | (abscb['BUSCHAR_LABEL']=='Not family-owned'))]\n",
    "\n",
    "# converting data type and changing column name for plotting\n",
    "familyowned['FIRMPDEMP'] = familyowned['FIRMPDEMP'].astype(int)\n",
    "familyowned = familyowned.rename(columns={'BUSCHAR_LABEL':'Ownership'})\n",
    "familyowned.head(2)"
   ]
  },
  {
   "cell_type": "code",
   "execution_count": 24,
   "metadata": {},
   "outputs": [
    {
     "data": {
      "text/html": [
       "<div>\n",
       "<style scoped>\n",
       "    .dataframe tbody tr th:only-of-type {\n",
       "        vertical-align: middle;\n",
       "    }\n",
       "\n",
       "    .dataframe tbody tr th {\n",
       "        vertical-align: top;\n",
       "    }\n",
       "\n",
       "    .dataframe thead th {\n",
       "        text-align: right;\n",
       "    }\n",
       "</style>\n",
       "<table border=\"1\" class=\"dataframe\">\n",
       "  <thead>\n",
       "    <tr style=\"text-align: right;\">\n",
       "      <th></th>\n",
       "      <th>EMPSZFI</th>\n",
       "      <th>EMPSZFILabel</th>\n",
       "    </tr>\n",
       "  </thead>\n",
       "  <tbody>\n",
       "    <tr>\n",
       "      <th>0</th>\n",
       "      <td>001</td>\n",
       "      <td>All firms</td>\n",
       "    </tr>\n",
       "    <tr>\n",
       "      <th>1</th>\n",
       "      <td>611</td>\n",
       "      <td>no employees</td>\n",
       "    </tr>\n",
       "    <tr>\n",
       "      <th>2</th>\n",
       "      <td>612</td>\n",
       "      <td>1 to 4 employees</td>\n",
       "    </tr>\n",
       "  </tbody>\n",
       "</table>\n",
       "</div>"
      ],
      "text/plain": [
       "  EMPSZFI      EMPSZFILabel\n",
       "0     001         All firms\n",
       "1     611      no employees\n",
       "2     612  1 to 4 employees"
      ]
     },
     "execution_count": 24,
     "metadata": {},
     "output_type": "execute_result"
    }
   ],
   "source": [
    "# (before i realized there was a EMPSZFI_LABEL column)\n",
    "# generates labels for each code in EMPSZFI, merges into main dataframe \n",
    "empszfi_desc = ['All firms',\n",
    "           'no employees',\n",
    "           '1 to 4 employees',\n",
    "           '5 to 9 employees',\n",
    "           '10 to 19 employees',\n",
    "           '20 to 49 employees',\n",
    "           '50 to 99 employees',\n",
    "           '100 to 249 employees',\n",
    "           '250 to 499 employees',\n",
    "           '500 employees or more']\n",
    "empszfi_code = ['001','611','612','620','630','641','642','651','652','657']\n",
    "empszfi_dict = {'EMPSZFI':empszfi_code,'EMPSZFILabel':empszfi_desc}\n",
    "empszfi = pd.DataFrame(empszfi_dict)\n",
    "familyowned = familyowned.merge(empszfi,how='inner',on='EMPSZFI')\n",
    "empszfi.head(3)"
   ]
  },
  {
   "cell_type": "code",
   "execution_count": 36,
   "metadata": {},
   "outputs": [
    {
     "data": {
      "text/html": [
       "<div>\n",
       "<style scoped>\n",
       "    .dataframe tbody tr th:only-of-type {\n",
       "        vertical-align: middle;\n",
       "    }\n",
       "\n",
       "    .dataframe tbody tr th {\n",
       "        vertical-align: top;\n",
       "    }\n",
       "\n",
       "    .dataframe thead th {\n",
       "        text-align: right;\n",
       "    }\n",
       "</style>\n",
       "<table border=\"1\" class=\"dataframe\">\n",
       "  <thead>\n",
       "    <tr style=\"text-align: right;\">\n",
       "      <th></th>\n",
       "      <th>RCPSZFI</th>\n",
       "      <th>RCPSZFILabel</th>\n",
       "    </tr>\n",
       "  </thead>\n",
       "  <tbody>\n",
       "    <tr>\n",
       "      <th>0</th>\n",
       "      <td>001</td>\n",
       "      <td>All firms</td>\n",
       "    </tr>\n",
       "    <tr>\n",
       "      <th>1</th>\n",
       "      <td>511</td>\n",
       "      <td>less than \\$5,000</td>\n",
       "    </tr>\n",
       "    <tr>\n",
       "      <th>2</th>\n",
       "      <td>518</td>\n",
       "      <td>\\$5,000 to \\$9,999</td>\n",
       "    </tr>\n",
       "  </tbody>\n",
       "</table>\n",
       "</div>"
      ],
      "text/plain": [
       "  RCPSZFI        RCPSZFILabel\n",
       "0     001           All firms\n",
       "1     511   less than \\$5,000\n",
       "2     518  \\$5,000 to \\$9,999"
      ]
     },
     "execution_count": 36,
     "metadata": {},
     "output_type": "execute_result"
    }
   ],
   "source": [
    "# (before i realized there was a RCPSZFI_LABEL column)\n",
    "# generates labels for each code in RCPSZFI, merges into main dataframe \n",
    "rcpszfi_desc = ['All firms',\n",
    "                'less than \\$5,000',\n",
    "                '\\$5,000 to \\$9,999',\n",
    "                '\\$10,000 to \\$24,999',\n",
    "                '\\$25,000 to \\$49,999',\n",
    "                '\\$50,000 to \\$99,999',\n",
    "                '\\$100,000 to \\$249,999',\n",
    "                '\\$250,000 to \\$499,999',\n",
    "                '\\$500,000 to \\$999,999',\n",
    "                '\\$1,000,000 or more']\n",
    "rcpszfi_code = ['001','511','518','519','521','522','523','525','531','532']\n",
    "rcpszfi_dict = {'RCPSZFI':rcpszfi_code,'RCPSZFILabel':rcpszfi_desc}\n",
    "rcpszfi = pd.DataFrame(rcpszfi_dict)\n",
    "familyowned = familyowned.merge(rcpszfi,how='inner',on='RCPSZFI')\n",
    "rcpszfi.head(3)"
   ]
  },
  {
   "cell_type": "code",
   "execution_count": 32,
   "metadata": {},
   "outputs": [],
   "source": [
    "# (before i realized there was a YIBSZFI_LABEL column)\n",
    "# generates labels for each code in YIBSZFI, merges into main dataframe \n",
    "yibszfi_desc = ['All firms',\n",
    "           'less than 2 years',\n",
    "           '2 to 3 years',\n",
    "           '4 to 5 years',\n",
    "           '6 to 10 years',\n",
    "           '11 to 15 years',\n",
    "           '16 or more years']\n",
    "yibszfi_code = ['001','311','318','319','321','322','323']\n",
    "yibszfi_dict = {'YIBSZFI':yibszfi_code,'YIBSZFILabel':yibszfi_desc}\n",
    "yibszfi = pd.DataFrame(yibszfi_dict)\n",
    "familyowned = familyowned.merge(yibszfi,how='inner',on='YIBSZFI')"
   ]
  },
  {
   "cell_type": "code",
   "execution_count": 33,
   "metadata": {},
   "outputs": [
    {
     "data": {
      "image/png": "[encoded data removed]",
      "text/plain": [
       "<Figure size 432x288 with 1 Axes>"
      ]
     },
     "metadata": {},
     "output_type": "display_data"
    }
   ],
   "source": [
    "# filters for all years in business, all revenue sizes, and not all employee sizes\n",
    "familyowned_emp = familyowned[((familyowned['YIBSZFI']=='001') & (familyowned['RCPSZFI']=='001') & (familyowned['EMPSZFI']!='001'))]\n",
    "\n",
    "# graph compares firm employment sizes with family owned and non family owned\n",
    "sns.set_theme(style=\"whitegrid\")\n",
    "ax = sns.barplot(x='FIRMPDEMP', \n",
    "                 y='EMPSZFILabel', \n",
    "                 hue='Ownership',\n",
    "                 palette=['#5932C4', '#C45932'],\n",
    "                 data=familyowned_emp, \n",
    "                 # orient='h'\n",
    "                )\n",
    "ax.set_xlabel('Number of Businesses', size=18)\n",
    "ax.set_ylabel('Firm Employment Size Categories', size=18)\n",
    "ax.set_title('Businesses By Number of Employees, Family and Not Family Owned')\n",
    "sns.despine(left=True, bottom=True)"
   ]
  },
  {
   "cell_type": "code",
   "execution_count": 34,
   "metadata": {},
   "outputs": [
    {
     "data": {
      "image/png": "[encoded data removed]",
      "text/plain": [
       "<Figure size 432x288 with 1 Axes>"
      ]
     },
     "metadata": {},
     "output_type": "display_data"
    }
   ],
   "source": [
    "# filters for not all years in business, all revenue sizes, and all employee sizes\n",
    "familyowned_yib = familyowned[((familyowned['YIBSZFI']!='001') & (familyowned['EMPSZFI']=='001') & (familyowned['RCPSZFI']=='001'))]\n",
    "\n",
    "# graph compares years in business with family owned and non family owned\n",
    "sns.set_theme(style=\"whitegrid\")\n",
    "ax = sns.barplot(x='FIRMPDEMP', \n",
    "                 y='YIBSZFILabel', \n",
    "                 hue='Ownership',\n",
    "                 palette=['#5932C4', '#C45932'],\n",
    "                 data=familyowned_yib, \n",
    "                 # orient='h'\n",
    "                )\n",
    "ax.set_xlabel('Number of Businesses', size=18)\n",
    "ax.set_ylabel('Firm Years in Business', size=18)\n",
    "sns.despine(left=True, bottom=True)"
   ]
  },
  {
   "cell_type": "code",
   "execution_count": 38,
   "metadata": {},
   "outputs": [
    {
     "data": {
      "image/png": "[encoded data removed]",
      "text/plain": [
       "<Figure size 432x288 with 1 Axes>"
      ]
     },
     "metadata": {},
     "output_type": "display_data"
    }
   ],
   "source": [
    "# filters for all years in business, not all revenue sizes, and all employee sizes\n",
    "familyowned_rcp = familyowned[((familyowned['RCPSZFI']!='001') & (familyowned['EMPSZFI']=='001') & (familyowned['YIBSZFI']=='001'))]\n",
    "\n",
    "# graph compares firm revenue sizes with family owned and non family owned\n",
    "ax = sns.barplot(x='FIRMPDEMP', \n",
    "                 y='RCPSZFILabel', \n",
    "                 hue='Ownership',\n",
    "                 palette=['#5932C4', '#C45932'],\n",
    "                 data=familyowned_rcp, \n",
    "                 # orient='h'\n",
    "                )\n",
    "ax.set_xlabel('Number of Businesses', size=18)\n",
    "ax.set_ylabel('Firm Revenue Size Categories', size=18)\n",
    "ax.set_title('U.S. Businesses By Revenue, Family and Not Family Owned')\n",
    "sns.despine(left=True, bottom=True)"
   ]
  },
  {
   "cell_type": "markdown",
   "metadata": {},
   "source": [
    "We once again queried the Census API."
   ]
  },
  {
   "cell_type": "code",
   "execution_count": 39,
   "metadata": {},
   "outputs": [],
   "source": [
    "# Import and compare race for Family Owned vs not Family Owned for the US\n",
    "us_bus_chars_race = pd.read_json(f'http://api.census.gov/data/2018/abscb?get=NAME,GEO_ID,BUSCHAR_LABEL,QDESC,QDESC_LABEL,EMP,RACE_GROUP,RACE_GROUP_LABEL,PAYANN,FIRMPDEMP&for=us:*&RACE_GROUP=30&RACE_GROUP=40&RACE_GROUP=50&RACE_GROUP=60&RACE_GROUP=70&RACE_GROUP=91&BUSCHAR=BM&BUSCHAR=BN&key={api_key}')\n",
    "us_bus_chars_race.columns = us_bus_chars_race.iloc[0]\n",
    "us_bus_chars_race = us_bus_chars_race.iloc[1:].reset_index(drop=True)"
   ]
  },
  {
   "cell_type": "code",
   "execution_count": 41,
   "metadata": {},
   "outputs": [
    {
     "name": "stderr",
     "output_type": "stream",
     "text": [
      "C:\\Users\\nmorr\\AppData\\Local\\Temp\\ipykernel_19756\\206028675.py:4: SettingWithCopyWarning: \n",
      "A value is trying to be set on a copy of a slice from a DataFrame.\n",
      "Try using .loc[row_indexer,col_indexer] = value instead\n",
      "\n",
      "See the caveats in the documentation: https://pandas.pydata.org/pandas-docs/stable/user_guide/indexing.html#returning-a-view-versus-a-copy\n",
      "  family_owner_race['FIRMPDEMP'] = family_owner_race['FIRMPDEMP'].astype(int)\n"
     ]
    },
    {
     "data": {
      "text/plain": [
       "(12, 3)"
      ]
     },
     "execution_count": 41,
     "metadata": {},
     "output_type": "execute_result"
    }
   ],
   "source": [
    "#collect only the variables we need\n",
    "family_owner_race = us_bus_chars_race[['BUSCHAR','FIRMPDEMP','RACE_GROUP_LABEL']]\n",
    "#Change the FIRMPDEMP to an integer\n",
    "family_owner_race['FIRMPDEMP'] = family_owner_race['FIRMPDEMP'].astype(int)\n",
    "#Rename each column\n",
    "family_owner_race.columns = ['Ownership', 'Number of Firms', 'Race']\n",
    "#Rename the values to be more easily understandable\n",
    "family_owner_race.loc[family_owner_race['Ownership'] == 'BM', 'Ownership'] = 'Family-Owned'\n",
    "family_owner_race.loc[family_owner_race['Ownership'] == 'BN', 'Ownership'] = 'Not Family-Owned'\n",
    "family_owner_race.shape"
   ]
  },
  {
   "cell_type": "code",
   "execution_count": 42,
   "metadata": {},
   "outputs": [
    {
     "data": {
      "text/plain": [
       "Text(0.5, 0, 'Number of Firms (in millions)')"
      ]
     },
     "execution_count": 42,
     "metadata": {},
     "output_type": "execute_result"
    },
    {
     "data": {
      "image/png": "[encoded data removed]",
      "text/plain": [
       "<Figure size 432x432 with 1 Axes>"
      ]
     },
     "metadata": {},
     "output_type": "display_data"
    }
   ],
   "source": [
    "# Create a pivot table and bar chart for family owned business by race\n",
    "pivot = pd.pivot_table(data = family_owner_race, index=['Race'], values=['Number of Firms'], columns=['Ownership'])\n",
    "pivot.head(6)\n",
    "ax = pivot.plot.barh(title = 'Owners of Family-Owned Businesses vs Non-Family-Owned by Race', figsize =(6,6), color = ['#5932C4','#C45932'])\n",
    "ax.set_ylabel('Race')\n",
    "ax.legend(loc = 'lower right')\n",
    "#ax.set_xticklabels(ax.get_xticklabels(),rotation = 90)\n",
    "ax.set_xlabel('Number of Firms (in millions)')"
   ]
  },
  {
   "cell_type": "markdown",
   "metadata": {},
   "source": [
    "### Owners of Family Owned Businesses By Sex"
   ]
  },
  {
   "cell_type": "code",
   "execution_count": 43,
   "metadata": {},
   "outputs": [],
   "source": [
    "# Import and compare sex for Family Owned vs not Family Owned for the US\n",
    "us_bus_chars_sex = pd.read_json(f'http://api.census.gov/data/2018/abscb?get=NAME,GEO_ID,BUSCHAR_LABEL,QDESC,QDESC_LABEL,EMP,SEX_LABEL,PAYANN,FIRMPDEMP&for=us:*&SEX=002&SEX=003&SEX=004&BUSCHAR=BM&BUSCHAR=BN&key={api_key}')\n",
    "# Fixes Headers\n",
    "us_bus_chars_sex.columns = us_bus_chars_sex.iloc[0]\n",
    "us_bus_chars_sex = us_bus_chars_sex.iloc[1:].reset_index(drop=True)"
   ]
  },
  {
   "cell_type": "code",
   "execution_count": 44,
   "metadata": {},
   "outputs": [
    {
     "name": "stderr",
     "output_type": "stream",
     "text": [
      "C:\\Users\\nmorr\\AppData\\Local\\Temp\\ipykernel_19756\\2739431582.py:4: SettingWithCopyWarning: \n",
      "A value is trying to be set on a copy of a slice from a DataFrame.\n",
      "Try using .loc[row_indexer,col_indexer] = value instead\n",
      "\n",
      "See the caveats in the documentation: https://pandas.pydata.org/pandas-docs/stable/user_guide/indexing.html#returning-a-view-versus-a-copy\n",
      "  family_owner_sex['FIRMPDEMP'] = family_owner_sex['FIRMPDEMP'].astype(int)\n"
     ]
    }
   ],
   "source": [
    "#collect only the variables we need\n",
    "family_owner_sex = us_bus_chars_sex[['BUSCHAR','FIRMPDEMP','SEX_LABEL']]\n",
    "#Change the FIRMPDEMP to an integer\n",
    "family_owner_sex['FIRMPDEMP'] = family_owner_sex['FIRMPDEMP'].astype(int)\n",
    "#Rename each column\n",
    "family_owner_sex.columns = ['Ownership', 'Number of Firms', 'Sex']\n",
    "#Rename the values to be more easily understandable\n",
    "family_owner_sex.loc[family_owner_sex['Ownership'] == 'BM', 'Ownership'] = 'Family-Owned'\n",
    "family_owner_sex.loc[family_owner_sex['Ownership'] == 'BN', 'Ownership'] = 'Not Family-Owned'"
   ]
  },
  {
   "cell_type": "code",
   "execution_count": 45,
   "metadata": {},
   "outputs": [
    {
     "data": {
      "text/plain": [
       "Text(0, 0.5, 'Number of Firms (in millions)')"
      ]
     },
     "execution_count": 45,
     "metadata": {},
     "output_type": "execute_result"
    },
    {
     "data": {
      "image/png": "[encoded data removed]",
      "text/plain": [
       "<Figure size 432x432 with 1 Axes>"
      ]
     },
     "metadata": {},
     "output_type": "display_data"
    }
   ],
   "source": [
    "# Create a pivot table and bar chart for family owned business by race\n",
    "pivot = pd.pivot_table(data = family_owner_sex, index=['Sex'], values=['Number of Firms'], columns=['Ownership'])\n",
    "ax = pivot.plot.bar(title = 'Owners of Family-Owned Businesses vs Non-Family-Owned by Sex', figsize =(6,6), color = ['#5932C4','#C45932'])\n",
    "ax.set_xlabel('Sex')\n",
    "ax.set_xticklabels(ax.get_xticklabels(),rotation = 0)\n",
    "ax.set_ylabel('Number of Firms (in millions)')"
   ]
  },
  {
   "cell_type": "markdown",
   "metadata": {},
   "source": [
    "### Maps: Family Owned Stats per State\n",
    "- Average number of employees per business\n",
    "- Average annual payroll per business\n",
    "- Number of firms"
   ]
  },
  {
   "cell_type": "code",
   "execution_count": 46,
   "metadata": {},
   "outputs": [
    {
     "data": {
      "text/html": [
       "<div>\n",
       "<style scoped>\n",
       "    .dataframe tbody tr th:only-of-type {\n",
       "        vertical-align: middle;\n",
       "    }\n",
       "\n",
       "    .dataframe tbody tr th {\n",
       "        vertical-align: top;\n",
       "    }\n",
       "\n",
       "    .dataframe thead th {\n",
       "        text-align: right;\n",
       "    }\n",
       "</style>\n",
       "<table border=\"1\" class=\"dataframe\">\n",
       "  <thead>\n",
       "    <tr style=\"text-align: right;\">\n",
       "      <th></th>\n",
       "      <th>GEO_ID</th>\n",
       "      <th>BUSCHAR_LABEL</th>\n",
       "      <th>QDESC</th>\n",
       "      <th>QDESC_LABEL</th>\n",
       "      <th>EMP</th>\n",
       "      <th>VET_GROUP</th>\n",
       "      <th>PAYANN</th>\n",
       "      <th>FIRMPDEMP</th>\n",
       "      <th>BUSCHAR</th>\n",
       "      <th>state</th>\n",
       "    </tr>\n",
       "  </thead>\n",
       "  <tbody>\n",
       "    <tr>\n",
       "      <th>0</th>\n",
       "      <td>0400000US28</td>\n",
       "      <td>Family-owned</td>\n",
       "      <td>B02</td>\n",
       "      <td>FAMOWN</td>\n",
       "      <td>45125</td>\n",
       "      <td>001</td>\n",
       "      <td>1400709</td>\n",
       "      <td>4744</td>\n",
       "      <td>BM</td>\n",
       "      <td>28</td>\n",
       "    </tr>\n",
       "    <tr>\n",
       "      <th>1</th>\n",
       "      <td>0400000US29</td>\n",
       "      <td>Family-owned</td>\n",
       "      <td>B02</td>\n",
       "      <td>FAMOWN</td>\n",
       "      <td>196071</td>\n",
       "      <td>001</td>\n",
       "      <td>6936552</td>\n",
       "      <td>18034</td>\n",
       "      <td>BM</td>\n",
       "      <td>29</td>\n",
       "    </tr>\n",
       "    <tr>\n",
       "      <th>2</th>\n",
       "      <td>0400000US30</td>\n",
       "      <td>Family-owned</td>\n",
       "      <td>B02</td>\n",
       "      <td>FAMOWN</td>\n",
       "      <td>33990</td>\n",
       "      <td>001</td>\n",
       "      <td>1063507</td>\n",
       "      <td>6419</td>\n",
       "      <td>BM</td>\n",
       "      <td>30</td>\n",
       "    </tr>\n",
       "  </tbody>\n",
       "</table>\n",
       "</div>"
      ],
      "text/plain": [
       "0       GEO_ID BUSCHAR_LABEL QDESC QDESC_LABEL     EMP VET_GROUP   PAYANN  \\\n",
       "0  0400000US28  Family-owned   B02      FAMOWN   45125       001  1400709   \n",
       "1  0400000US29  Family-owned   B02      FAMOWN  196071       001  6936552   \n",
       "2  0400000US30  Family-owned   B02      FAMOWN   33990       001  1063507   \n",
       "\n",
       "0 FIRMPDEMP BUSCHAR state  \n",
       "0      4744      BM    28  \n",
       "1     18034      BM    29  \n",
       "2      6419      BM    30  "
      ]
     },
     "execution_count": 46,
     "metadata": {},
     "output_type": "execute_result"
    }
   ],
   "source": [
    "# grabs characteristics of business data\n",
    "business = pd.read_json(r'http://api.census.gov/data/2018/abscb?get=GEO_ID,BUSCHAR_LABEL,QDESC,QDESC_LABEL,EMP,VET_GROUP,PAYANN,FIRMPDEMP&for=state&BUSCHAR=BM&key=bccfff37a66ca0c564d5d5d80d0236771b334f9b')\n",
    "business.columns = business.iloc[0]\n",
    "business = business.iloc[1:].reset_index(drop=True)\n",
    "business.head(3)"
   ]
  },
  {
   "cell_type": "code",
   "execution_count": 48,
   "metadata": {},
   "outputs": [
    {
     "data": {
      "text/html": [
       "<div>\n",
       "<style scoped>\n",
       "    .dataframe tbody tr th:only-of-type {\n",
       "        vertical-align: middle;\n",
       "    }\n",
       "\n",
       "    .dataframe tbody tr th {\n",
       "        vertical-align: top;\n",
       "    }\n",
       "\n",
       "    .dataframe thead th {\n",
       "        text-align: right;\n",
       "    }\n",
       "</style>\n",
       "<table border=\"1\" class=\"dataframe\">\n",
       "  <thead>\n",
       "    <tr style=\"text-align: right;\">\n",
       "      <th></th>\n",
       "      <th>Abbrev</th>\n",
       "      <th>GEO_ID</th>\n",
       "    </tr>\n",
       "  </thead>\n",
       "  <tbody>\n",
       "    <tr>\n",
       "      <th>0</th>\n",
       "      <td>AL</td>\n",
       "      <td>0400000US01</td>\n",
       "    </tr>\n",
       "    <tr>\n",
       "      <th>1</th>\n",
       "      <td>AK</td>\n",
       "      <td>0400000US02</td>\n",
       "    </tr>\n",
       "    <tr>\n",
       "      <th>2</th>\n",
       "      <td>AZ</td>\n",
       "      <td>0400000US04</td>\n",
       "    </tr>\n",
       "    <tr>\n",
       "      <th>3</th>\n",
       "      <td>AR</td>\n",
       "      <td>0400000US05</td>\n",
       "    </tr>\n",
       "    <tr>\n",
       "      <th>4</th>\n",
       "      <td>CA</td>\n",
       "      <td>0400000US06</td>\n",
       "    </tr>\n",
       "  </tbody>\n",
       "</table>\n",
       "</div>"
      ],
      "text/plain": [
       "  Abbrev       GEO_ID\n",
       "0     AL  0400000US01\n",
       "1     AK  0400000US02\n",
       "2     AZ  0400000US04\n",
       "3     AR  0400000US05\n",
       "4     CA  0400000US06"
      ]
     },
     "execution_count": 48,
     "metadata": {},
     "output_type": "execute_result"
    }
   ],
   "source": [
    "# trying to map state codes to GEO_ID, had to look up census geocodes for state\n",
    "stateAbbrev = ['AL', 'AK', 'AZ', 'AR', 'CA', 'CO', 'CT', 'DE', 'DC', 'FL', \n",
    "              'GA', 'HI', 'ID', 'IL', 'IN', 'IA', 'KS', 'KY', 'LA', 'ME', \n",
    "              'MD', 'MA', 'MI', 'MN', 'MS', 'MO', 'MT', 'NE', 'NV', 'NH', \n",
    "              'NJ', 'NM', 'NY', 'NC', 'ND', 'OH', 'OK', 'OR', 'PA', 'RI', \n",
    "              'SC', 'SD', 'TN', 'TX', 'UT', 'VT', 'VA', 'WA', 'WV', 'WI', 'WY']\n",
    "stateID = [1, 2, 4, 5, 6, 8, 9, 10, \n",
    "           11, 12, 13, 15, 16, 17, 18, 19, 20, \n",
    "           21, 22, 23, 24, 25, 26, 27, 28, 29, 30, \n",
    "           31, 32, 33, 34, 35, 36, 37, 38, 39, 40, \n",
    "           41, 42, 44, 45, 46, 47, 48, 49, 50, \n",
    "           51, 53, 54, 55, 56]\n",
    "stateGEOID = list(map(lambda x: '0400000US{}'.format(str(x).zfill(2)), stateID))\n",
    "stateCodes = {'Abbrev':stateAbbrev,'GEO_ID':stateGEOID}\n",
    "stateCodes = pd.DataFrame(stateCodes)\n",
    "stateCodes.head()"
   ]
  },
  {
   "cell_type": "markdown",
   "metadata": {},
   "source": [
    "We merged the business dataframe with the state table we created"
   ]
  },
  {
   "cell_type": "code",
   "execution_count": 49,
   "metadata": {},
   "outputs": [
    {
     "data": {
      "text/html": [
       "<div>\n",
       "<style scoped>\n",
       "    .dataframe tbody tr th:only-of-type {\n",
       "        vertical-align: middle;\n",
       "    }\n",
       "\n",
       "    .dataframe tbody tr th {\n",
       "        vertical-align: top;\n",
       "    }\n",
       "\n",
       "    .dataframe thead th {\n",
       "        text-align: right;\n",
       "    }\n",
       "</style>\n",
       "<table border=\"1\" class=\"dataframe\">\n",
       "  <thead>\n",
       "    <tr style=\"text-align: right;\">\n",
       "      <th></th>\n",
       "      <th>GEO_ID</th>\n",
       "      <th>BUSCHAR_LABEL</th>\n",
       "      <th>QDESC</th>\n",
       "      <th>QDESC_LABEL</th>\n",
       "      <th>EMP</th>\n",
       "      <th>VET_GROUP</th>\n",
       "      <th>PAYANN</th>\n",
       "      <th>FIRMPDEMP</th>\n",
       "      <th>BUSCHAR</th>\n",
       "      <th>state</th>\n",
       "      <th>Abbrev</th>\n",
       "    </tr>\n",
       "  </thead>\n",
       "  <tbody>\n",
       "    <tr>\n",
       "      <th>0</th>\n",
       "      <td>0400000US28</td>\n",
       "      <td>Family-owned</td>\n",
       "      <td>B02</td>\n",
       "      <td>FAMOWN</td>\n",
       "      <td>45125</td>\n",
       "      <td>001</td>\n",
       "      <td>1400709</td>\n",
       "      <td>4744</td>\n",
       "      <td>BM</td>\n",
       "      <td>28</td>\n",
       "      <td>MS</td>\n",
       "    </tr>\n",
       "    <tr>\n",
       "      <th>1</th>\n",
       "      <td>0400000US29</td>\n",
       "      <td>Family-owned</td>\n",
       "      <td>B02</td>\n",
       "      <td>FAMOWN</td>\n",
       "      <td>196071</td>\n",
       "      <td>001</td>\n",
       "      <td>6936552</td>\n",
       "      <td>18034</td>\n",
       "      <td>BM</td>\n",
       "      <td>29</td>\n",
       "      <td>MO</td>\n",
       "    </tr>\n",
       "  </tbody>\n",
       "</table>\n",
       "</div>"
      ],
      "text/plain": [
       "        GEO_ID BUSCHAR_LABEL QDESC QDESC_LABEL     EMP VET_GROUP   PAYANN  \\\n",
       "0  0400000US28  Family-owned   B02      FAMOWN   45125       001  1400709   \n",
       "1  0400000US29  Family-owned   B02      FAMOWN  196071       001  6936552   \n",
       "\n",
       "  FIRMPDEMP BUSCHAR state Abbrev  \n",
       "0      4744      BM    28     MS  \n",
       "1     18034      BM    29     MO  "
      ]
     },
     "execution_count": 49,
     "metadata": {},
     "output_type": "execute_result"
    }
   ],
   "source": [
    "business_statename = business.merge(stateCodes, how='left', on='GEO_ID')\n",
    "business_statename.head(2)"
   ]
  },
  {
   "cell_type": "code",
   "execution_count": 53,
   "metadata": {},
   "outputs": [
    {
     "name": "stderr",
     "output_type": "stream",
     "text": [
      "C:\\Users\\nmorr\\AppData\\Local\\Temp\\ipykernel_19756\\2590665057.py:3: SettingWithCopyWarning: \n",
      "A value is trying to be set on a copy of a slice from a DataFrame.\n",
      "Try using .loc[row_indexer,col_indexer] = value instead\n",
      "\n",
      "See the caveats in the documentation: https://pandas.pydata.org/pandas-docs/stable/user_guide/indexing.html#returning-a-view-versus-a-copy\n",
      "  business_statename_plot['FIRMPDEMP'] = business_statename_plot['FIRMPDEMP'].astype(int)\n",
      "C:\\Users\\nmorr\\AppData\\Local\\Temp\\ipykernel_19756\\2590665057.py:4: SettingWithCopyWarning: \n",
      "A value is trying to be set on a copy of a slice from a DataFrame.\n",
      "Try using .loc[row_indexer,col_indexer] = value instead\n",
      "\n",
      "See the caveats in the documentation: https://pandas.pydata.org/pandas-docs/stable/user_guide/indexing.html#returning-a-view-versus-a-copy\n",
      "  business_statename_plot['EMP'] = business_statename_plot['EMP'].astype(int)\n",
      "C:\\Users\\nmorr\\AppData\\Local\\Temp\\ipykernel_19756\\2590665057.py:5: SettingWithCopyWarning: \n",
      "A value is trying to be set on a copy of a slice from a DataFrame.\n",
      "Try using .loc[row_indexer,col_indexer] = value instead\n",
      "\n",
      "See the caveats in the documentation: https://pandas.pydata.org/pandas-docs/stable/user_guide/indexing.html#returning-a-view-versus-a-copy\n",
      "  business_statename_plot['PAYANN'] = business_statename_plot['PAYANN'].astype(float)\n",
      "C:\\Users\\nmorr\\AppData\\Local\\Temp\\ipykernel_19756\\2590665057.py:7: SettingWithCopyWarning: \n",
      "A value is trying to be set on a copy of a slice from a DataFrame.\n",
      "Try using .loc[row_indexer,col_indexer] = value instead\n",
      "\n",
      "See the caveats in the documentation: https://pandas.pydata.org/pandas-docs/stable/user_guide/indexing.html#returning-a-view-versus-a-copy\n",
      "  business_statename_plot['UnitEMP'] = business_statename_plot['EMP']/business_statename_plot['FIRMPDEMP']\n",
      "C:\\Users\\nmorr\\AppData\\Local\\Temp\\ipykernel_19756\\2590665057.py:8: SettingWithCopyWarning: \n",
      "A value is trying to be set on a copy of a slice from a DataFrame.\n",
      "Try using .loc[row_indexer,col_indexer] = value instead\n",
      "\n",
      "See the caveats in the documentation: https://pandas.pydata.org/pandas-docs/stable/user_guide/indexing.html#returning-a-view-versus-a-copy\n",
      "  business_statename_plot['UnitPAYANN'] = business_statename_plot['PAYANN']*1000/business_statename_plot['FIRMPDEMP']\n"
     ]
    },
    {
     "data": {
      "text/html": [
       "<div>\n",
       "<style scoped>\n",
       "    .dataframe tbody tr th:only-of-type {\n",
       "        vertical-align: middle;\n",
       "    }\n",
       "\n",
       "    .dataframe tbody tr th {\n",
       "        vertical-align: top;\n",
       "    }\n",
       "\n",
       "    .dataframe thead th {\n",
       "        text-align: right;\n",
       "    }\n",
       "</style>\n",
       "<table border=\"1\" class=\"dataframe\">\n",
       "  <thead>\n",
       "    <tr style=\"text-align: right;\">\n",
       "      <th></th>\n",
       "      <th>state</th>\n",
       "      <th>Abbrev</th>\n",
       "      <th>FIRMPDEMP</th>\n",
       "      <th>EMP</th>\n",
       "      <th>PAYANN</th>\n",
       "      <th>UnitEMP</th>\n",
       "      <th>UnitPAYANN</th>\n",
       "    </tr>\n",
       "  </thead>\n",
       "  <tbody>\n",
       "    <tr>\n",
       "      <th>0</th>\n",
       "      <td>28</td>\n",
       "      <td>MS</td>\n",
       "      <td>4744</td>\n",
       "      <td>45125</td>\n",
       "      <td>1400709.0</td>\n",
       "      <td>9.512015</td>\n",
       "      <td>295259.064081</td>\n",
       "    </tr>\n",
       "    <tr>\n",
       "      <th>1</th>\n",
       "      <td>29</td>\n",
       "      <td>MO</td>\n",
       "      <td>18034</td>\n",
       "      <td>196071</td>\n",
       "      <td>6936552.0</td>\n",
       "      <td>10.872297</td>\n",
       "      <td>384637.462571</td>\n",
       "    </tr>\n",
       "    <tr>\n",
       "      <th>2</th>\n",
       "      <td>30</td>\n",
       "      <td>MT</td>\n",
       "      <td>6419</td>\n",
       "      <td>33990</td>\n",
       "      <td>1063507.0</td>\n",
       "      <td>5.295217</td>\n",
       "      <td>165681.102976</td>\n",
       "    </tr>\n",
       "    <tr>\n",
       "      <th>3</th>\n",
       "      <td>31</td>\n",
       "      <td>NE</td>\n",
       "      <td>8466</td>\n",
       "      <td>67532</td>\n",
       "      <td>2538668.0</td>\n",
       "      <td>7.976849</td>\n",
       "      <td>299866.288684</td>\n",
       "    </tr>\n",
       "    <tr>\n",
       "      <th>4</th>\n",
       "      <td>32</td>\n",
       "      <td>NV</td>\n",
       "      <td>5855</td>\n",
       "      <td>55106</td>\n",
       "      <td>1720501.0</td>\n",
       "      <td>9.411785</td>\n",
       "      <td>293851.579846</td>\n",
       "    </tr>\n",
       "  </tbody>\n",
       "</table>\n",
       "</div>"
      ],
      "text/plain": [
       "  state Abbrev  FIRMPDEMP     EMP     PAYANN    UnitEMP     UnitPAYANN\n",
       "0    28     MS       4744   45125  1400709.0   9.512015  295259.064081\n",
       "1    29     MO      18034  196071  6936552.0  10.872297  384637.462571\n",
       "2    30     MT       6419   33990  1063507.0   5.295217  165681.102976\n",
       "3    31     NE       8466   67532  2538668.0   7.976849  299866.288684\n",
       "4    32     NV       5855   55106  1720501.0   9.411785  293851.579846"
      ]
     },
     "execution_count": 53,
     "metadata": {},
     "output_type": "execute_result"
    }
   ],
   "source": [
    "# converting datatypes to int\n",
    "business_statename_plot = business_statename[['state','Abbrev','FIRMPDEMP','EMP','PAYANN']]\n",
    "business_statename_plot['FIRMPDEMP'] = business_statename_plot['FIRMPDEMP'].astype(int)\n",
    "business_statename_plot['EMP'] = business_statename_plot['EMP'].astype(int)\n",
    "business_statename_plot['PAYANN'] = business_statename_plot['PAYANN'].astype(float)\n",
    "# making columns for the averages (average employee count, average payroll)\n",
    "business_statename_plot['UnitEMP'] = business_statename_plot['EMP']/business_statename_plot['FIRMPDEMP']\n",
    "business_statename_plot['UnitPAYANN'] = business_statename_plot['PAYANN']*1000/business_statename_plot['FIRMPDEMP']\n",
    "\n",
    "business_statename_plot.head()"
   ]
  },
  {
   "cell_type": "markdown",
   "metadata": {},
   "source": [
    "We queried the API to get the total firms per state"
   ]
  },
  {
   "cell_type": "code",
   "execution_count": 54,
   "metadata": {},
   "outputs": [
    {
     "data": {
      "text/html": [
       "<div>\n",
       "<style scoped>\n",
       "    .dataframe tbody tr th:only-of-type {\n",
       "        vertical-align: middle;\n",
       "    }\n",
       "\n",
       "    .dataframe tbody tr th {\n",
       "        vertical-align: top;\n",
       "    }\n",
       "\n",
       "    .dataframe thead th {\n",
       "        text-align: right;\n",
       "    }\n",
       "</style>\n",
       "<table border=\"1\" class=\"dataframe\">\n",
       "  <thead>\n",
       "    <tr style=\"text-align: right;\">\n",
       "      <th></th>\n",
       "      <th>totalFirms</th>\n",
       "      <th>state</th>\n",
       "    </tr>\n",
       "  </thead>\n",
       "  <tbody>\n",
       "    <tr>\n",
       "      <th>0</th>\n",
       "      <td>16501</td>\n",
       "      <td>28</td>\n",
       "    </tr>\n",
       "    <tr>\n",
       "      <th>1</th>\n",
       "      <td>51069</td>\n",
       "      <td>29</td>\n",
       "    </tr>\n",
       "    <tr>\n",
       "      <th>2</th>\n",
       "      <td>15801</td>\n",
       "      <td>30</td>\n",
       "    </tr>\n",
       "    <tr>\n",
       "      <th>3</th>\n",
       "      <td>21697</td>\n",
       "      <td>31</td>\n",
       "    </tr>\n",
       "    <tr>\n",
       "      <th>4</th>\n",
       "      <td>19435</td>\n",
       "      <td>32</td>\n",
       "    </tr>\n",
       "  </tbody>\n",
       "</table>\n",
       "</div>"
      ],
      "text/plain": [
       "0  totalFirms state\n",
       "0       16501    28\n",
       "1       51069    29\n",
       "2       15801    30\n",
       "3       21697    31\n",
       "4       19435    32"
      ]
     },
     "execution_count": 54,
     "metadata": {},
     "output_type": "execute_result"
    }
   ],
   "source": [
    "business_totals = pd.read_json(f'http://api.census.gov/data/2018/abscb?get=GEO_ID,BUSCHAR_LABEL,QDESC,QDESC_LABEL,EMP,VET_GROUP,PAYANN,FIRMPDEMP&for=state&BUSCHAR=BO&key={api_key}')\n",
    "business_totals.columns = business_totals.iloc[0]\n",
    "business_totals = business_totals.iloc[1:].reset_index(drop=True)\n",
    "business_totals = business_totals.rename(columns={'FIRMPDEMP':'totalFirms'})\n",
    "business_totals = business_totals[['totalFirms','state']]\n",
    "business_totals['totalFirms'] = business_totals['totalFirms'].astype(int)\n",
    "business_totals.head()"
   ]
  },
  {
   "cell_type": "markdown",
   "metadata": {},
   "source": [
    "Then, we merged the total firms with the business_statename dataframe"
   ]
  },
  {
   "cell_type": "code",
   "execution_count": 55,
   "metadata": {},
   "outputs": [
    {
     "data": {
      "text/html": [
       "<div>\n",
       "<style scoped>\n",
       "    .dataframe tbody tr th:only-of-type {\n",
       "        vertical-align: middle;\n",
       "    }\n",
       "\n",
       "    .dataframe tbody tr th {\n",
       "        vertical-align: top;\n",
       "    }\n",
       "\n",
       "    .dataframe thead th {\n",
       "        text-align: right;\n",
       "    }\n",
       "</style>\n",
       "<table border=\"1\" class=\"dataframe\">\n",
       "  <thead>\n",
       "    <tr style=\"text-align: right;\">\n",
       "      <th></th>\n",
       "      <th>state</th>\n",
       "      <th>Abbrev</th>\n",
       "      <th>FIRMPDEMP</th>\n",
       "      <th>EMP</th>\n",
       "      <th>PAYANN</th>\n",
       "      <th>UnitEMP</th>\n",
       "      <th>UnitPAYANN</th>\n",
       "      <th>totalFirms</th>\n",
       "      <th>PercentFamilyOwned</th>\n",
       "    </tr>\n",
       "  </thead>\n",
       "  <tbody>\n",
       "    <tr>\n",
       "      <th>0</th>\n",
       "      <td>28</td>\n",
       "      <td>MS</td>\n",
       "      <td>4744</td>\n",
       "      <td>45125</td>\n",
       "      <td>1400709.0</td>\n",
       "      <td>9.512015</td>\n",
       "      <td>295259.064081</td>\n",
       "      <td>16501</td>\n",
       "      <td>28.749773</td>\n",
       "    </tr>\n",
       "    <tr>\n",
       "      <th>1</th>\n",
       "      <td>29</td>\n",
       "      <td>MO</td>\n",
       "      <td>18034</td>\n",
       "      <td>196071</td>\n",
       "      <td>6936552.0</td>\n",
       "      <td>10.872297</td>\n",
       "      <td>384637.462571</td>\n",
       "      <td>51069</td>\n",
       "      <td>35.313008</td>\n",
       "    </tr>\n",
       "    <tr>\n",
       "      <th>2</th>\n",
       "      <td>30</td>\n",
       "      <td>MT</td>\n",
       "      <td>6419</td>\n",
       "      <td>33990</td>\n",
       "      <td>1063507.0</td>\n",
       "      <td>5.295217</td>\n",
       "      <td>165681.102976</td>\n",
       "      <td>15801</td>\n",
       "      <td>40.624011</td>\n",
       "    </tr>\n",
       "    <tr>\n",
       "      <th>3</th>\n",
       "      <td>31</td>\n",
       "      <td>NE</td>\n",
       "      <td>8466</td>\n",
       "      <td>67532</td>\n",
       "      <td>2538668.0</td>\n",
       "      <td>7.976849</td>\n",
       "      <td>299866.288684</td>\n",
       "      <td>21697</td>\n",
       "      <td>39.019219</td>\n",
       "    </tr>\n",
       "    <tr>\n",
       "      <th>4</th>\n",
       "      <td>32</td>\n",
       "      <td>NV</td>\n",
       "      <td>5855</td>\n",
       "      <td>55106</td>\n",
       "      <td>1720501.0</td>\n",
       "      <td>9.411785</td>\n",
       "      <td>293851.579846</td>\n",
       "      <td>19435</td>\n",
       "      <td>30.126061</td>\n",
       "    </tr>\n",
       "  </tbody>\n",
       "</table>\n",
       "</div>"
      ],
      "text/plain": [
       "  state Abbrev  FIRMPDEMP     EMP     PAYANN    UnitEMP     UnitPAYANN  \\\n",
       "0    28     MS       4744   45125  1400709.0   9.512015  295259.064081   \n",
       "1    29     MO      18034  196071  6936552.0  10.872297  384637.462571   \n",
       "2    30     MT       6419   33990  1063507.0   5.295217  165681.102976   \n",
       "3    31     NE       8466   67532  2538668.0   7.976849  299866.288684   \n",
       "4    32     NV       5855   55106  1720501.0   9.411785  293851.579846   \n",
       "\n",
       "   totalFirms  PercentFamilyOwned  \n",
       "0       16501           28.749773  \n",
       "1       51069           35.313008  \n",
       "2       15801           40.624011  \n",
       "3       21697           39.019219  \n",
       "4       19435           30.126061  "
      ]
     },
     "execution_count": 55,
     "metadata": {},
     "output_type": "execute_result"
    }
   ],
   "source": [
    "business_statename_plot = business_statename_plot.merge(business_totals,how='inner',on='state')\n",
    "business_statename_plot['PercentFamilyOwned'] = business_statename_plot['FIRMPDEMP']*100/business_statename_plot['totalFirms']\n",
    "business_statename_plot.head()"
   ]
  },
  {
   "cell_type": "code",
   "execution_count": 62,
   "metadata": {},
   "outputs": [
    {
     "data": {
      "application/vnd.plotly.v1+json": {
       "config": {
        "plotlyServerURL": "https://plot.ly"
       },
       "data": [
        {
         "colorbar": {
          "title": {
           "text": "Annual Payroll ($)"
          }
         },
         "colorscale": [
          [
           0,
           "rgb(252,251,253)"
          ],
          [
           0.125,
           "rgb(239,237,245)"
          ],
          [
           0.25,
           "rgb(218,218,235)"
          ],
          [
           0.375,
           "rgb(188,189,220)"
          ],
          [
           0.5,
           "rgb(158,154,200)"
          ],
          [
           0.625,
           "rgb(128,125,186)"
          ],
          [
           0.75,
           "rgb(106,81,163)"
          ],
          [
           0.875,
           "rgb(84,39,143)"
          ],
          [
           1,
           "rgb(63,0,125)"
          ]
         ],
         "locationmode": "USA-states",
         "locations": [
          "MS",
          "MO",
          "MT",
          "NE",
          "NV",
          "NH",
          "NJ",
          "NM",
          "NY",
          "NC",
          "ND",
          "OH",
          "OK",
          "OR",
          "PA",
          "RI",
          "SC",
          "SD",
          "TN",
          "TX",
          "VT",
          "UT",
          "VA",
          "WA",
          "WV",
          "WI",
          "WY",
          "AL",
          "AK",
          "AZ",
          "AR",
          "CA",
          "CO",
          "DE",
          "DC",
          "ID",
          "CT",
          "FL",
          "GA",
          "HI",
          "IL",
          "IN",
          "IA",
          "KS",
          "KY",
          "LA",
          "ME",
          "MD",
          "MA",
          "MI",
          "MN"
         ],
         "type": "choropleth",
         "z": [
          295259.06408094434,
          384637.4625706998,
          165681.10297554135,
          299866.28868414834,
          293851.5798462852,
          444927.6048714479,
          552548.6862442041,
          338889.83723699884,
          411287.5272031254,
          372317.68032819533,
          279717.135382603,
          458849.39007206407,
          333481.7898022893,
          356608.3838581394,
          447579.540936201,
          365175.4666666667,
          276369.82281909493,
          205220.7142857143,
          438463.1694675671,
          401799.343832021,
          393081.4291649356,
          268239.2526754943,
          447651.9359834796,
          350732.3024977938,
          216696.65271966526,
          406222.4009358093,
          201598.77955758962,
          437261.31661442004,
          243537.3645179692,
          305948.43263938744,
          270288.5644065346,
          418372.1026410449,
          315547.6423400509,
          367945.4253611557,
          391436.20178041543,
          192397.6074093131,
          426243.4845212383,
          311344.7424318303,
          304923.4112173424,
          300421.3176668066,
          444725.7092258965,
          425412.6921560899,
          289917.4005747659,
          442900.2009377093,
          291897.9458041958,
          420016.9246646027,
          220268.24500434406,
          601766.0779176878,
          643980.0434850132,
          495500.1639113942,
          347810.27822874096
         ]
        }
       ],
       "layout": {
        "geo": {
         "scope": "usa"
        },
        "template": {
         "data": {
          "bar": [
           {
            "error_x": {
             "color": "#2a3f5f"
            },
            "error_y": {
             "color": "#2a3f5f"
            },
            "marker": {
             "line": {
              "color": "#E5ECF6",
              "width": 0.5
             },
             "pattern": {
              "fillmode": "overlay",
              "size": 10,
              "solidity": 0.2
             }
            },
            "type": "bar"
           }
          ],
          "barpolar": [
           {
            "marker": {
             "line": {
              "color": "#E5ECF6",
              "width": 0.5
             },
             "pattern": {
              "fillmode": "overlay",
              "size": 10,
              "solidity": 0.2
             }
            },
            "type": "barpolar"
           }
          ],
          "carpet": [
           {
            "aaxis": {
             "endlinecolor": "#2a3f5f",
             "gridcolor": "white",
             "linecolor": "white",
             "minorgridcolor": "white",
             "startlinecolor": "#2a3f5f"
            },
            "baxis": {
             "endlinecolor": "#2a3f5f",
             "gridcolor": "white",
             "linecolor": "white",
             "minorgridcolor": "white",
             "startlinecolor": "#2a3f5f"
            },
            "type": "carpet"
           }
          ],
          "choropleth": [
           {
            "colorbar": {
             "outlinewidth": 0,
             "ticks": ""
            },
            "type": "choropleth"
           }
          ],
          "contour": [
           {
            "colorbar": {
             "outlinewidth": 0,
             "ticks": ""
            },
            "colorscale": [
             [
              0,
              "#0d0887"
             ],
             [
              0.1111111111111111,
              "#46039f"
             ],
             [
              0.2222222222222222,
              "#7201a8"
             ],
             [
              0.3333333333333333,
              "#9c179e"
             ],
             [
              0.4444444444444444,
              "#bd3786"
             ],
             [
              0.5555555555555556,
              "#d8576b"
             ],
             [
              0.6666666666666666,
              "#ed7953"
             ],
             [
              0.7777777777777778,
              "#fb9f3a"
             ],
             [
              0.8888888888888888,
              "#fdca26"
             ],
             [
              1,
              "#f0f921"
             ]
            ],
            "type": "contour"
           }
          ],
          "contourcarpet": [
           {
            "colorbar": {
             "outlinewidth": 0,
             "ticks": ""
            },
            "type": "contourcarpet"
           }
          ],
          "heatmap": [
           {
            "colorbar": {
             "outlinewidth": 0,
             "ticks": ""
            },
            "colorscale": [
             [
              0,
              "#0d0887"
             ],
             [
              0.1111111111111111,
              "#46039f"
             ],
             [
              0.2222222222222222,
              "#7201a8"
             ],
             [
              0.3333333333333333,
              "#9c179e"
             ],
             [
              0.4444444444444444,
              "#bd3786"
             ],
             [
              0.5555555555555556,
              "#d8576b"
             ],
             [
              0.6666666666666666,
              "#ed7953"
             ],
             [
              0.7777777777777778,
              "#fb9f3a"
             ],
             [
              0.8888888888888888,
              "#fdca26"
             ],
             [
              1,
              "#f0f921"
             ]
            ],
            "type": "heatmap"
           }
          ],
          "heatmapgl": [
           {
            "colorbar": {
             "outlinewidth": 0,
             "ticks": ""
            },
            "colorscale": [
             [
              0,
              "#0d0887"
             ],
             [
              0.1111111111111111,
              "#46039f"
             ],
             [
              0.2222222222222222,
              "#7201a8"
             ],
             [
              0.3333333333333333,
              "#9c179e"
             ],
             [
              0.4444444444444444,
              "#bd3786"
             ],
             [
              0.5555555555555556,
              "#d8576b"
             ],
             [
              0.6666666666666666,
              "#ed7953"
             ],
             [
              0.7777777777777778,
              "#fb9f3a"
             ],
             [
              0.8888888888888888,
              "#fdca26"
             ],
             [
              1,
              "#f0f921"
             ]
            ],
            "type": "heatmapgl"
           }
          ],
          "histogram": [
           {
            "marker": {
             "pattern": {
              "fillmode": "overlay",
              "size": 10,
              "solidity": 0.2
             }
            },
            "type": "histogram"
           }
          ],
          "histogram2d": [
           {
            "colorbar": {
             "outlinewidth": 0,
             "ticks": ""
            },
            "colorscale": [
             [
              0,
              "#0d0887"
             ],
             [
              0.1111111111111111,
              "#46039f"
             ],
             [
              0.2222222222222222,
              "#7201a8"
             ],
             [
              0.3333333333333333,
              "#9c179e"
             ],
             [
              0.4444444444444444,
              "#bd3786"
             ],
             [
              0.5555555555555556,
              "#d8576b"
             ],
             [
              0.6666666666666666,
              "#ed7953"
             ],
             [
              0.7777777777777778,
              "#fb9f3a"
             ],
             [
              0.8888888888888888,
              "#fdca26"
             ],
             [
              1,
              "#f0f921"
             ]
            ],
            "type": "histogram2d"
           }
          ],
          "histogram2dcontour": [
           {
            "colorbar": {
             "outlinewidth": 0,
             "ticks": ""
            },
            "colorscale": [
             [
              0,
              "#0d0887"
             ],
             [
              0.1111111111111111,
              "#46039f"
             ],
             [
              0.2222222222222222,
              "#7201a8"
             ],
             [
              0.3333333333333333,
              "#9c179e"
             ],
             [
              0.4444444444444444,
              "#bd3786"
             ],
             [
              0.5555555555555556,
              "#d8576b"
             ],
             [
              0.6666666666666666,
              "#ed7953"
             ],
             [
              0.7777777777777778,
              "#fb9f3a"
             ],
             [
              0.8888888888888888,
              "#fdca26"
             ],
             [
              1,
              "#f0f921"
             ]
            ],
            "type": "histogram2dcontour"
           }
          ],
          "mesh3d": [
           {
            "colorbar": {
             "outlinewidth": 0,
             "ticks": ""
            },
            "type": "mesh3d"
           }
          ],
          "parcoords": [
           {
            "line": {
             "colorbar": {
              "outlinewidth": 0,
              "ticks": ""
             }
            },
            "type": "parcoords"
           }
          ],
          "pie": [
           {
            "automargin": true,
            "type": "pie"
           }
          ],
          "scatter": [
           {
            "marker": {
             "colorbar": {
              "outlinewidth": 0,
              "ticks": ""
             }
            },
            "type": "scatter"
           }
          ],
          "scatter3d": [
           {
            "line": {
             "colorbar": {
              "outlinewidth": 0,
              "ticks": ""
             }
            },
            "marker": {
             "colorbar": {
              "outlinewidth": 0,
              "ticks": ""
             }
            },
            "type": "scatter3d"
           }
          ],
          "scattercarpet": [
           {
            "marker": {
             "colorbar": {
              "outlinewidth": 0,
              "ticks": ""
             }
            },
            "type": "scattercarpet"
           }
          ],
          "scattergeo": [
           {
            "marker": {
             "colorbar": {
              "outlinewidth": 0,
              "ticks": ""
             }
            },
            "type": "scattergeo"
           }
          ],
          "scattergl": [
           {
            "marker": {
             "colorbar": {
              "outlinewidth": 0,
              "ticks": ""
             }
            },
            "type": "scattergl"
           }
          ],
          "scattermapbox": [
           {
            "marker": {
             "colorbar": {
              "outlinewidth": 0,
              "ticks": ""
             }
            },
            "type": "scattermapbox"
           }
          ],
          "scatterpolar": [
           {
            "marker": {
             "colorbar": {
              "outlinewidth": 0,
              "ticks": ""
             }
            },
            "type": "scatterpolar"
           }
          ],
          "scatterpolargl": [
           {
            "marker": {
             "colorbar": {
              "outlinewidth": 0,
              "ticks": ""
             }
            },
            "type": "scatterpolargl"
           }
          ],
          "scatterternary": [
           {
            "marker": {
             "colorbar": {
              "outlinewidth": 0,
              "ticks": ""
             }
            },
            "type": "scatterternary"
           }
          ],
          "surface": [
           {
            "colorbar": {
             "outlinewidth": 0,
             "ticks": ""
            },
            "colorscale": [
             [
              0,
              "#0d0887"
             ],
             [
              0.1111111111111111,
              "#46039f"
             ],
             [
              0.2222222222222222,
              "#7201a8"
             ],
             [
              0.3333333333333333,
              "#9c179e"
             ],
             [
              0.4444444444444444,
              "#bd3786"
             ],
             [
              0.5555555555555556,
              "#d8576b"
             ],
             [
              0.6666666666666666,
              "#ed7953"
             ],
             [
              0.7777777777777778,
              "#fb9f3a"
             ],
             [
              0.8888888888888888,
              "#fdca26"
             ],
             [
              1,
              "#f0f921"
             ]
            ],
            "type": "surface"
           }
          ],
          "table": [
           {
            "cells": {
             "fill": {
              "color": "#EBF0F8"
             },
             "line": {
              "color": "white"
             }
            },
            "header": {
             "fill": {
              "color": "#C8D4E3"
             },
             "line": {
              "color": "white"
             }
            },
            "type": "table"
           }
          ]
         },
         "layout": {
          "annotationdefaults": {
           "arrowcolor": "#2a3f5f",
           "arrowhead": 0,
           "arrowwidth": 1
          },
          "autotypenumbers": "strict",
          "coloraxis": {
           "colorbar": {
            "outlinewidth": 0,
            "ticks": ""
           }
          },
          "colorscale": {
           "diverging": [
            [
             0,
             "#8e0152"
            ],
            [
             0.1,
             "#c51b7d"
            ],
            [
             0.2,
             "#de77ae"
            ],
            [
             0.3,
             "#f1b6da"
            ],
            [
             0.4,
             "#fde0ef"
            ],
            [
             0.5,
             "#f7f7f7"
            ],
            [
             0.6,
             "#e6f5d0"
            ],
            [
             0.7,
             "#b8e186"
            ],
            [
             0.8,
             "#7fbc41"
            ],
            [
             0.9,
             "#4d9221"
            ],
            [
             1,
             "#276419"
            ]
           ],
           "sequential": [
            [
             0,
             "#0d0887"
            ],
            [
             0.1111111111111111,
             "#46039f"
            ],
            [
             0.2222222222222222,
             "#7201a8"
            ],
            [
             0.3333333333333333,
             "#9c179e"
            ],
            [
             0.4444444444444444,
             "#bd3786"
            ],
            [
             0.5555555555555556,
             "#d8576b"
            ],
            [
             0.6666666666666666,
             "#ed7953"
            ],
            [
             0.7777777777777778,
             "#fb9f3a"
            ],
            [
             0.8888888888888888,
             "#fdca26"
            ],
            [
             1,
             "#f0f921"
            ]
           ],
           "sequentialminus": [
            [
             0,
             "#0d0887"
            ],
            [
             0.1111111111111111,
             "#46039f"
            ],
            [
             0.2222222222222222,
             "#7201a8"
            ],
            [
             0.3333333333333333,
             "#9c179e"
            ],
            [
             0.4444444444444444,
             "#bd3786"
            ],
            [
             0.5555555555555556,
             "#d8576b"
            ],
            [
             0.6666666666666666,
             "#ed7953"
            ],
            [
             0.7777777777777778,
             "#fb9f3a"
            ],
            [
             0.8888888888888888,
             "#fdca26"
            ],
            [
             1,
             "#f0f921"
            ]
           ]
          },
          "colorway": [
           "#636efa",
           "#EF553B",
           "#00cc96",
           "#ab63fa",
           "#FFA15A",
           "#19d3f3",
           "#FF6692",
           "#B6E880",
           "#FF97FF",
           "#FECB52"
          ],
          "font": {
           "color": "#2a3f5f"
          },
          "geo": {
           "bgcolor": "white",
           "lakecolor": "white",
           "landcolor": "#E5ECF6",
           "showlakes": true,
           "showland": true,
           "subunitcolor": "white"
          },
          "hoverlabel": {
           "align": "left"
          },
          "hovermode": "closest",
          "mapbox": {
           "style": "light"
          },
          "paper_bgcolor": "white",
          "plot_bgcolor": "#E5ECF6",
          "polar": {
           "angularaxis": {
            "gridcolor": "white",
            "linecolor": "white",
            "ticks": ""
           },
           "bgcolor": "#E5ECF6",
           "radialaxis": {
            "gridcolor": "white",
            "linecolor": "white",
            "ticks": ""
           }
          },
          "scene": {
           "xaxis": {
            "backgroundcolor": "#E5ECF6",
            "gridcolor": "white",
            "gridwidth": 2,
            "linecolor": "white",
            "showbackground": true,
            "ticks": "",
            "zerolinecolor": "white"
           },
           "yaxis": {
            "backgroundcolor": "#E5ECF6",
            "gridcolor": "white",
            "gridwidth": 2,
            "linecolor": "white",
            "showbackground": true,
            "ticks": "",
            "zerolinecolor": "white"
           },
           "zaxis": {
            "backgroundcolor": "#E5ECF6",
            "gridcolor": "white",
            "gridwidth": 2,
            "linecolor": "white",
            "showbackground": true,
            "ticks": "",
            "zerolinecolor": "white"
           }
          },
          "shapedefaults": {
           "line": {
            "color": "#2a3f5f"
           }
          },
          "ternary": {
           "aaxis": {
            "gridcolor": "white",
            "linecolor": "white",
            "ticks": ""
           },
           "baxis": {
            "gridcolor": "white",
            "linecolor": "white",
            "ticks": ""
           },
           "bgcolor": "#E5ECF6",
           "caxis": {
            "gridcolor": "white",
            "linecolor": "white",
            "ticks": ""
           }
          },
          "title": {
           "x": 0.05
          },
          "xaxis": {
           "automargin": true,
           "gridcolor": "white",
           "linecolor": "white",
           "ticks": "",
           "title": {
            "standoff": 15
           },
           "zerolinecolor": "white",
           "zerolinewidth": 2
          },
          "yaxis": {
           "automargin": true,
           "gridcolor": "white",
           "linecolor": "white",
           "ticks": "",
           "title": {
            "standoff": 15
           },
           "zerolinecolor": "white",
           "zerolinewidth": 2
          }
         }
        },
        "title": {
         "text": "Annual Payroll per Family Owned Business by State, USA"
        }
       }
      }
     },
     "metadata": {},
     "output_type": "display_data"
    }
   ],
   "source": [
    "# Annual Payroll per Family Owned Business by State, USA\n",
    "\n",
    "fig = go.Figure(data=go.Choropleth(\n",
    "    locations=business_statename_plot['Abbrev'], # Spatial coordinates\n",
    "    z = business_statename_plot['UnitPAYANN'].astype(float), # Data to be color-coded\n",
    "    locationmode = 'USA-states', # set of locations match entries in `locations`\n",
    "    colorscale = 'purples',\n",
    "    colorbar_title = \"Annual Payroll ($)\",\n",
    "))\n",
    "\n",
    "fig.update_layout(\n",
    "    title_text = 'Annual Payroll per Family Owned Business by State, USA',\n",
    "    geo_scope='usa', # limite map scope to USA\n",
    ")\n",
    "\n",
    "fig.show()"
   ]
  },
  {
   "cell_type": "code",
   "execution_count": 61,
   "metadata": {},
   "outputs": [
    {
     "data": {
      "application/vnd.plotly.v1+json": {
       "config": {
        "plotlyServerURL": "https://plot.ly"
       },
       "data": [
        {
         "colorbar": {
          "title": {
           "text": "Employees"
          }
         },
         "colorscale": [
          [
           0,
           "rgb(252,251,253)"
          ],
          [
           0.125,
           "rgb(239,237,245)"
          ],
          [
           0.25,
           "rgb(218,218,235)"
          ],
          [
           0.375,
           "rgb(188,189,220)"
          ],
          [
           0.5,
           "rgb(158,154,200)"
          ],
          [
           0.625,
           "rgb(128,125,186)"
          ],
          [
           0.75,
           "rgb(106,81,163)"
          ],
          [
           0.875,
           "rgb(84,39,143)"
          ],
          [
           1,
           "rgb(63,0,125)"
          ]
         ],
         "locationmode": "USA-states",
         "locations": [
          "MS",
          "MO",
          "MT",
          "NE",
          "NV",
          "NH",
          "NJ",
          "NM",
          "NY",
          "NC",
          "ND",
          "OH",
          "OK",
          "OR",
          "PA",
          "RI",
          "SC",
          "SD",
          "TN",
          "TX",
          "VT",
          "UT",
          "VA",
          "WA",
          "WV",
          "WI",
          "WY",
          "AL",
          "AK",
          "AZ",
          "AR",
          "CA",
          "CO",
          "DE",
          "DC",
          "ID",
          "CT",
          "FL",
          "GA",
          "HI",
          "IL",
          "IN",
          "IA",
          "KS",
          "KY",
          "LA",
          "ME",
          "MD",
          "MA",
          "MI",
          "MN"
         ],
         "type": "choropleth",
         "z": [
          9.512015177065768,
          10.87229677276256,
          5.2952173235706494,
          7.976848570753603,
          9.411784799316823,
          10.003721244925575,
          11.633178773827924,
          9.85132989281461,
          8.477857311413514,
          10.43302664595531,
          6.7151733158927405,
          12.528282136962035,
          8.273578658594268,
          9.70623899863094,
          12.434990059642146,
          10.3472,
          8.34826768987699,
          6.565714285714286,
          12.933406627925239,
          9.975918635170604,
          10.287494806813461,
          7.855341919100308,
          11.60702116675271,
          9.916471626443617,
          8.888224745965331,
          11.354389043232441,
          5.314263920671244,
          11.327021943573667,
          5.04563605248146,
          9.115458243598948,
          9.070261674136185,
          10.835449246927116,
          8.443650948933673,
          8.499732477260567,
          8.731454005934719,
          6.151916645227682,
          8.904247660187185,
          8.627091716027424,
          8.308706989109872,
          8.436005035669325,
          10.187310560909989,
          11.719635114589785,
          8.68100491332159,
          9.510046885465506,
          9.440122377622378,
          9.988648090815273,
          6.1689834926151175,
          11.52894447730922,
          12.258114614070507,
          14.203015969652975,
          9.010916419414432
         ]
        }
       ],
       "layout": {
        "geo": {
         "scope": "usa"
        },
        "template": {
         "data": {
          "bar": [
           {
            "error_x": {
             "color": "#2a3f5f"
            },
            "error_y": {
             "color": "#2a3f5f"
            },
            "marker": {
             "line": {
              "color": "#E5ECF6",
              "width": 0.5
             },
             "pattern": {
              "fillmode": "overlay",
              "size": 10,
              "solidity": 0.2
             }
            },
            "type": "bar"
           }
          ],
          "barpolar": [
           {
            "marker": {
             "line": {
              "color": "#E5ECF6",
              "width": 0.5
             },
             "pattern": {
              "fillmode": "overlay",
              "size": 10,
              "solidity": 0.2
             }
            },
            "type": "barpolar"
           }
          ],
          "carpet": [
           {
            "aaxis": {
             "endlinecolor": "#2a3f5f",
             "gridcolor": "white",
             "linecolor": "white",
             "minorgridcolor": "white",
             "startlinecolor": "#2a3f5f"
            },
            "baxis": {
             "endlinecolor": "#2a3f5f",
             "gridcolor": "white",
             "linecolor": "white",
             "minorgridcolor": "white",
             "startlinecolor": "#2a3f5f"
            },
            "type": "carpet"
           }
          ],
          "choropleth": [
           {
            "colorbar": {
             "outlinewidth": 0,
             "ticks": ""
            },
            "type": "choropleth"
           }
          ],
          "contour": [
           {
            "colorbar": {
             "outlinewidth": 0,
             "ticks": ""
            },
            "colorscale": [
             [
              0,
              "#0d0887"
             ],
             [
              0.1111111111111111,
              "#46039f"
             ],
             [
              0.2222222222222222,
              "#7201a8"
             ],
             [
              0.3333333333333333,
              "#9c179e"
             ],
             [
              0.4444444444444444,
              "#bd3786"
             ],
             [
              0.5555555555555556,
              "#d8576b"
             ],
             [
              0.6666666666666666,
              "#ed7953"
             ],
             [
              0.7777777777777778,
              "#fb9f3a"
             ],
             [
              0.8888888888888888,
              "#fdca26"
             ],
             [
              1,
              "#f0f921"
             ]
            ],
            "type": "contour"
           }
          ],
          "contourcarpet": [
           {
            "colorbar": {
             "outlinewidth": 0,
             "ticks": ""
            },
            "type": "contourcarpet"
           }
          ],
          "heatmap": [
           {
            "colorbar": {
             "outlinewidth": 0,
             "ticks": ""
            },
            "colorscale": [
             [
              0,
              "#0d0887"
             ],
             [
              0.1111111111111111,
              "#46039f"
             ],
             [
              0.2222222222222222,
              "#7201a8"
             ],
             [
              0.3333333333333333,
              "#9c179e"
             ],
             [
              0.4444444444444444,
              "#bd3786"
             ],
             [
              0.5555555555555556,
              "#d8576b"
             ],
             [
              0.6666666666666666,
              "#ed7953"
             ],
             [
              0.7777777777777778,
              "#fb9f3a"
             ],
             [
              0.8888888888888888,
              "#fdca26"
             ],
             [
              1,
              "#f0f921"
             ]
            ],
            "type": "heatmap"
           }
          ],
          "heatmapgl": [
           {
            "colorbar": {
             "outlinewidth": 0,
             "ticks": ""
            },
            "colorscale": [
             [
              0,
              "#0d0887"
             ],
             [
              0.1111111111111111,
              "#46039f"
             ],
             [
              0.2222222222222222,
              "#7201a8"
             ],
             [
              0.3333333333333333,
              "#9c179e"
             ],
             [
              0.4444444444444444,
              "#bd3786"
             ],
             [
              0.5555555555555556,
              "#d8576b"
             ],
             [
              0.6666666666666666,
              "#ed7953"
             ],
             [
              0.7777777777777778,
              "#fb9f3a"
             ],
             [
              0.8888888888888888,
              "#fdca26"
             ],
             [
              1,
              "#f0f921"
             ]
            ],
            "type": "heatmapgl"
           }
          ],
          "histogram": [
           {
            "marker": {
             "pattern": {
              "fillmode": "overlay",
              "size": 10,
              "solidity": 0.2
             }
            },
            "type": "histogram"
           }
          ],
          "histogram2d": [
           {
            "colorbar": {
             "outlinewidth": 0,
             "ticks": ""
            },
            "colorscale": [
             [
              0,
              "#0d0887"
             ],
             [
              0.1111111111111111,
              "#46039f"
             ],
             [
              0.2222222222222222,
              "#7201a8"
             ],
             [
              0.3333333333333333,
              "#9c179e"
             ],
             [
              0.4444444444444444,
              "#bd3786"
             ],
             [
              0.5555555555555556,
              "#d8576b"
             ],
             [
              0.6666666666666666,
              "#ed7953"
             ],
             [
              0.7777777777777778,
              "#fb9f3a"
             ],
             [
              0.8888888888888888,
              "#fdca26"
             ],
             [
              1,
              "#f0f921"
             ]
            ],
            "type": "histogram2d"
           }
          ],
          "histogram2dcontour": [
           {
            "colorbar": {
             "outlinewidth": 0,
             "ticks": ""
            },
            "colorscale": [
             [
              0,
              "#0d0887"
             ],
             [
              0.1111111111111111,
              "#46039f"
             ],
             [
              0.2222222222222222,
              "#7201a8"
             ],
             [
              0.3333333333333333,
              "#9c179e"
             ],
             [
              0.4444444444444444,
              "#bd3786"
             ],
             [
              0.5555555555555556,
              "#d8576b"
             ],
             [
              0.6666666666666666,
              "#ed7953"
             ],
             [
              0.7777777777777778,
              "#fb9f3a"
             ],
             [
              0.8888888888888888,
              "#fdca26"
             ],
             [
              1,
              "#f0f921"
             ]
            ],
            "type": "histogram2dcontour"
           }
          ],
          "mesh3d": [
           {
            "colorbar": {
             "outlinewidth": 0,
             "ticks": ""
            },
            "type": "mesh3d"
           }
          ],
          "parcoords": [
           {
            "line": {
             "colorbar": {
              "outlinewidth": 0,
              "ticks": ""
             }
            },
            "type": "parcoords"
           }
          ],
          "pie": [
           {
            "automargin": true,
            "type": "pie"
           }
          ],
          "scatter": [
           {
            "marker": {
             "colorbar": {
              "outlinewidth": 0,
              "ticks": ""
             }
            },
            "type": "scatter"
           }
          ],
          "scatter3d": [
           {
            "line": {
             "colorbar": {
              "outlinewidth": 0,
              "ticks": ""
             }
            },
            "marker": {
             "colorbar": {
              "outlinewidth": 0,
              "ticks": ""
             }
            },
            "type": "scatter3d"
           }
          ],
          "scattercarpet": [
           {
            "marker": {
             "colorbar": {
              "outlinewidth": 0,
              "ticks": ""
             }
            },
            "type": "scattercarpet"
           }
          ],
          "scattergeo": [
           {
            "marker": {
             "colorbar": {
              "outlinewidth": 0,
              "ticks": ""
             }
            },
            "type": "scattergeo"
           }
          ],
          "scattergl": [
           {
            "marker": {
             "colorbar": {
              "outlinewidth": 0,
              "ticks": ""
             }
            },
            "type": "scattergl"
           }
          ],
          "scattermapbox": [
           {
            "marker": {
             "colorbar": {
              "outlinewidth": 0,
              "ticks": ""
             }
            },
            "type": "scattermapbox"
           }
          ],
          "scatterpolar": [
           {
            "marker": {
             "colorbar": {
              "outlinewidth": 0,
              "ticks": ""
             }
            },
            "type": "scatterpolar"
           }
          ],
          "scatterpolargl": [
           {
            "marker": {
             "colorbar": {
              "outlinewidth": 0,
              "ticks": ""
             }
            },
            "type": "scatterpolargl"
           }
          ],
          "scatterternary": [
           {
            "marker": {
             "colorbar": {
              "outlinewidth": 0,
              "ticks": ""
             }
            },
            "type": "scatterternary"
           }
          ],
          "surface": [
           {
            "colorbar": {
             "outlinewidth": 0,
             "ticks": ""
            },
            "colorscale": [
             [
              0,
              "#0d0887"
             ],
             [
              0.1111111111111111,
              "#46039f"
             ],
             [
              0.2222222222222222,
              "#7201a8"
             ],
             [
              0.3333333333333333,
              "#9c179e"
             ],
             [
              0.4444444444444444,
              "#bd3786"
             ],
             [
              0.5555555555555556,
              "#d8576b"
             ],
             [
              0.6666666666666666,
              "#ed7953"
             ],
             [
              0.7777777777777778,
              "#fb9f3a"
             ],
             [
              0.8888888888888888,
              "#fdca26"
             ],
             [
              1,
              "#f0f921"
             ]
            ],
            "type": "surface"
           }
          ],
          "table": [
           {
            "cells": {
             "fill": {
              "color": "#EBF0F8"
             },
             "line": {
              "color": "white"
             }
            },
            "header": {
             "fill": {
              "color": "#C8D4E3"
             },
             "line": {
              "color": "white"
             }
            },
            "type": "table"
           }
          ]
         },
         "layout": {
          "annotationdefaults": {
           "arrowcolor": "#2a3f5f",
           "arrowhead": 0,
           "arrowwidth": 1
          },
          "autotypenumbers": "strict",
          "coloraxis": {
           "colorbar": {
            "outlinewidth": 0,
            "ticks": ""
           }
          },
          "colorscale": {
           "diverging": [
            [
             0,
             "#8e0152"
            ],
            [
             0.1,
             "#c51b7d"
            ],
            [
             0.2,
             "#de77ae"
            ],
            [
             0.3,
             "#f1b6da"
            ],
            [
             0.4,
             "#fde0ef"
            ],
            [
             0.5,
             "#f7f7f7"
            ],
            [
             0.6,
             "#e6f5d0"
            ],
            [
             0.7,
             "#b8e186"
            ],
            [
             0.8,
             "#7fbc41"
            ],
            [
             0.9,
             "#4d9221"
            ],
            [
             1,
             "#276419"
            ]
           ],
           "sequential": [
            [
             0,
             "#0d0887"
            ],
            [
             0.1111111111111111,
             "#46039f"
            ],
            [
             0.2222222222222222,
             "#7201a8"
            ],
            [
             0.3333333333333333,
             "#9c179e"
            ],
            [
             0.4444444444444444,
             "#bd3786"
            ],
            [
             0.5555555555555556,
             "#d8576b"
            ],
            [
             0.6666666666666666,
             "#ed7953"
            ],
            [
             0.7777777777777778,
             "#fb9f3a"
            ],
            [
             0.8888888888888888,
             "#fdca26"
            ],
            [
             1,
             "#f0f921"
            ]
           ],
           "sequentialminus": [
            [
             0,
             "#0d0887"
            ],
            [
             0.1111111111111111,
             "#46039f"
            ],
            [
             0.2222222222222222,
             "#7201a8"
            ],
            [
             0.3333333333333333,
             "#9c179e"
            ],
            [
             0.4444444444444444,
             "#bd3786"
            ],
            [
             0.5555555555555556,
             "#d8576b"
            ],
            [
             0.6666666666666666,
             "#ed7953"
            ],
            [
             0.7777777777777778,
             "#fb9f3a"
            ],
            [
             0.8888888888888888,
             "#fdca26"
            ],
            [
             1,
             "#f0f921"
            ]
           ]
          },
          "colorway": [
           "#636efa",
           "#EF553B",
           "#00cc96",
           "#ab63fa",
           "#FFA15A",
           "#19d3f3",
           "#FF6692",
           "#B6E880",
           "#FF97FF",
           "#FECB52"
          ],
          "font": {
           "color": "#2a3f5f"
          },
          "geo": {
           "bgcolor": "white",
           "lakecolor": "white",
           "landcolor": "#E5ECF6",
           "showlakes": true,
           "showland": true,
           "subunitcolor": "white"
          },
          "hoverlabel": {
           "align": "left"
          },
          "hovermode": "closest",
          "mapbox": {
           "style": "light"
          },
          "paper_bgcolor": "white",
          "plot_bgcolor": "#E5ECF6",
          "polar": {
           "angularaxis": {
            "gridcolor": "white",
            "linecolor": "white",
            "ticks": ""
           },
           "bgcolor": "#E5ECF6",
           "radialaxis": {
            "gridcolor": "white",
            "linecolor": "white",
            "ticks": ""
           }
          },
          "scene": {
           "xaxis": {
            "backgroundcolor": "#E5ECF6",
            "gridcolor": "white",
            "gridwidth": 2,
            "linecolor": "white",
            "showbackground": true,
            "ticks": "",
            "zerolinecolor": "white"
           },
           "yaxis": {
            "backgroundcolor": "#E5ECF6",
            "gridcolor": "white",
            "gridwidth": 2,
            "linecolor": "white",
            "showbackground": true,
            "ticks": "",
            "zerolinecolor": "white"
           },
           "zaxis": {
            "backgroundcolor": "#E5ECF6",
            "gridcolor": "white",
            "gridwidth": 2,
            "linecolor": "white",
            "showbackground": true,
            "ticks": "",
            "zerolinecolor": "white"
           }
          },
          "shapedefaults": {
           "line": {
            "color": "#2a3f5f"
           }
          },
          "ternary": {
           "aaxis": {
            "gridcolor": "white",
            "linecolor": "white",
            "ticks": ""
           },
           "baxis": {
            "gridcolor": "white",
            "linecolor": "white",
            "ticks": ""
           },
           "bgcolor": "#E5ECF6",
           "caxis": {
            "gridcolor": "white",
            "linecolor": "white",
            "ticks": ""
           }
          },
          "title": {
           "x": 0.05
          },
          "xaxis": {
           "automargin": true,
           "gridcolor": "white",
           "linecolor": "white",
           "ticks": "",
           "title": {
            "standoff": 15
           },
           "zerolinecolor": "white",
           "zerolinewidth": 2
          },
          "yaxis": {
           "automargin": true,
           "gridcolor": "white",
           "linecolor": "white",
           "ticks": "",
           "title": {
            "standoff": 15
           },
           "zerolinecolor": "white",
           "zerolinewidth": 2
          }
         }
        },
        "title": {
         "text": "Average Employees per Family Owned Business by State, USA"
        }
       }
      }
     },
     "metadata": {},
     "output_type": "display_data"
    }
   ],
   "source": [
    "# Average Employees per Family Owned Business by State, USA\n",
    "\n",
    "fig = go.Figure(data=go.Choropleth(\n",
    "    locations=business_statename_plot['Abbrev'], # Spatial coordinates\n",
    "    z = business_statename_plot['UnitEMP'].astype(float), # Data to be color-coded\n",
    "    locationmode = 'USA-states', # set of locations match entries in `locations`\n",
    "    colorscale = 'purples',\n",
    "    colorbar_title = \"Employees\",\n",
    "))\n",
    "\n",
    "fig.update_layout(\n",
    "    title_text = 'Average Employees per Family Owned Business by State, USA',\n",
    "    geo_scope='usa', # limite map scope to USA\n",
    ")\n",
    "\n",
    "fig.show()"
   ]
  },
  {
   "cell_type": "code",
   "execution_count": 60,
   "metadata": {},
   "outputs": [
    {
     "data": {
      "application/vnd.plotly.v1+json": {
       "config": {
        "plotlyServerURL": "https://plot.ly"
       },
       "data": [
        {
         "colorbar": {
          "title": {
           "text": "% of Total Businesses"
          }
         },
         "colorscale": [
          [
           0,
           "rgb(252,251,253)"
          ],
          [
           0.125,
           "rgb(239,237,245)"
          ],
          [
           0.25,
           "rgb(218,218,235)"
          ],
          [
           0.375,
           "rgb(188,189,220)"
          ],
          [
           0.5,
           "rgb(158,154,200)"
          ],
          [
           0.625,
           "rgb(128,125,186)"
          ],
          [
           0.75,
           "rgb(106,81,163)"
          ],
          [
           0.875,
           "rgb(84,39,143)"
          ],
          [
           1,
           "rgb(63,0,125)"
          ]
         ],
         "locationmode": "USA-states",
         "locations": [
          "MS",
          "MO",
          "MT",
          "NE",
          "NV",
          "NH",
          "NJ",
          "NM",
          "NY",
          "NC",
          "ND",
          "OH",
          "OK",
          "OR",
          "PA",
          "RI",
          "SC",
          "SD",
          "TN",
          "TX",
          "VT",
          "UT",
          "VA",
          "WA",
          "WV",
          "WI",
          "WY",
          "AL",
          "AK",
          "AZ",
          "AR",
          "CA",
          "CO",
          "DE",
          "DC",
          "ID",
          "CT",
          "FL",
          "GA",
          "HI",
          "IL",
          "IN",
          "IA",
          "KS",
          "KY",
          "LA",
          "ME",
          "MD",
          "MA",
          "MI",
          "MN"
         ],
         "type": "choropleth",
         "z": [
          28.749772741045998,
          35.31300789128434,
          40.624011138535536,
          39.01921924690049,
          30.12606122974016,
          22.845660406522914,
          23.96680948794251,
          37.52420676299717,
          21.156481075713785,
          29.91278861962971,
          34.72632296161708,
          28.19409761634506,
          34.98130315364506,
          34.05488211003064,
          26.231699916559204,
          23.830706659888154,
          25.36860488419365,
          43.36602994321115,
          30.449545671927307,
          32.779128040780336,
          33.458437586877956,
          36.37023354004486,
          28.286043896669053,
          37.09982776045893,
          31.742718907124562,
          36.666309242976624,
          38.327729864054966,
          26.536452267660465,
          29.407817480288543,
          35.35757345009201,
          32.251596959947776,
          30.15574697642043,
          30.073551044424832,
          28.678839957035446,
          17.38457570286304,
          42.14235377026075,
          24.53456742148585,
          29.03115834858246,
          25.14786052252623,
          25.238296970980723,
          25.48628169185234,
          33.31457407094753,
          35.85150226003722,
          34.4207492795389,
          29.411575666034643,
          31.36937520233085,
          33.148534811721504,
          24.839413913262522,
          21.8797784498284,
          26.12019718895644,
          30.413389178329417
         ]
        }
       ],
       "layout": {
        "geo": {
         "scope": "usa"
        },
        "template": {
         "data": {
          "bar": [
           {
            "error_x": {
             "color": "#2a3f5f"
            },
            "error_y": {
             "color": "#2a3f5f"
            },
            "marker": {
             "line": {
              "color": "#E5ECF6",
              "width": 0.5
             },
             "pattern": {
              "fillmode": "overlay",
              "size": 10,
              "solidity": 0.2
             }
            },
            "type": "bar"
           }
          ],
          "barpolar": [
           {
            "marker": {
             "line": {
              "color": "#E5ECF6",
              "width": 0.5
             },
             "pattern": {
              "fillmode": "overlay",
              "size": 10,
              "solidity": 0.2
             }
            },
            "type": "barpolar"
           }
          ],
          "carpet": [
           {
            "aaxis": {
             "endlinecolor": "#2a3f5f",
             "gridcolor": "white",
             "linecolor": "white",
             "minorgridcolor": "white",
             "startlinecolor": "#2a3f5f"
            },
            "baxis": {
             "endlinecolor": "#2a3f5f",
             "gridcolor": "white",
             "linecolor": "white",
             "minorgridcolor": "white",
             "startlinecolor": "#2a3f5f"
            },
            "type": "carpet"
           }
          ],
          "choropleth": [
           {
            "colorbar": {
             "outlinewidth": 0,
             "ticks": ""
            },
            "type": "choropleth"
           }
          ],
          "contour": [
           {
            "colorbar": {
             "outlinewidth": 0,
             "ticks": ""
            },
            "colorscale": [
             [
              0,
              "#0d0887"
             ],
             [
              0.1111111111111111,
              "#46039f"
             ],
             [
              0.2222222222222222,
              "#7201a8"
             ],
             [
              0.3333333333333333,
              "#9c179e"
             ],
             [
              0.4444444444444444,
              "#bd3786"
             ],
             [
              0.5555555555555556,
              "#d8576b"
             ],
             [
              0.6666666666666666,
              "#ed7953"
             ],
             [
              0.7777777777777778,
              "#fb9f3a"
             ],
             [
              0.8888888888888888,
              "#fdca26"
             ],
             [
              1,
              "#f0f921"
             ]
            ],
            "type": "contour"
           }
          ],
          "contourcarpet": [
           {
            "colorbar": {
             "outlinewidth": 0,
             "ticks": ""
            },
            "type": "contourcarpet"
           }
          ],
          "heatmap": [
           {
            "colorbar": {
             "outlinewidth": 0,
             "ticks": ""
            },
            "colorscale": [
             [
              0,
              "#0d0887"
             ],
             [
              0.1111111111111111,
              "#46039f"
             ],
             [
              0.2222222222222222,
              "#7201a8"
             ],
             [
              0.3333333333333333,
              "#9c179e"
             ],
             [
              0.4444444444444444,
              "#bd3786"
             ],
             [
              0.5555555555555556,
              "#d8576b"
             ],
             [
              0.6666666666666666,
              "#ed7953"
             ],
             [
              0.7777777777777778,
              "#fb9f3a"
             ],
             [
              0.8888888888888888,
              "#fdca26"
             ],
             [
              1,
              "#f0f921"
             ]
            ],
            "type": "heatmap"
           }
          ],
          "heatmapgl": [
           {
            "colorbar": {
             "outlinewidth": 0,
             "ticks": ""
            },
            "colorscale": [
             [
              0,
              "#0d0887"
             ],
             [
              0.1111111111111111,
              "#46039f"
             ],
             [
              0.2222222222222222,
              "#7201a8"
             ],
             [
              0.3333333333333333,
              "#9c179e"
             ],
             [
              0.4444444444444444,
              "#bd3786"
             ],
             [
              0.5555555555555556,
              "#d8576b"
             ],
             [
              0.6666666666666666,
              "#ed7953"
             ],
             [
              0.7777777777777778,
              "#fb9f3a"
             ],
             [
              0.8888888888888888,
              "#fdca26"
             ],
             [
              1,
              "#f0f921"
             ]
            ],
            "type": "heatmapgl"
           }
          ],
          "histogram": [
           {
            "marker": {
             "pattern": {
              "fillmode": "overlay",
              "size": 10,
              "solidity": 0.2
             }
            },
            "type": "histogram"
           }
          ],
          "histogram2d": [
           {
            "colorbar": {
             "outlinewidth": 0,
             "ticks": ""
            },
            "colorscale": [
             [
              0,
              "#0d0887"
             ],
             [
              0.1111111111111111,
              "#46039f"
             ],
             [
              0.2222222222222222,
              "#7201a8"
             ],
             [
              0.3333333333333333,
              "#9c179e"
             ],
             [
              0.4444444444444444,
              "#bd3786"
             ],
             [
              0.5555555555555556,
              "#d8576b"
             ],
             [
              0.6666666666666666,
              "#ed7953"
             ],
             [
              0.7777777777777778,
              "#fb9f3a"
             ],
             [
              0.8888888888888888,
              "#fdca26"
             ],
             [
              1,
              "#f0f921"
             ]
            ],
            "type": "histogram2d"
           }
          ],
          "histogram2dcontour": [
           {
            "colorbar": {
             "outlinewidth": 0,
             "ticks": ""
            },
            "colorscale": [
             [
              0,
              "#0d0887"
             ],
             [
              0.1111111111111111,
              "#46039f"
             ],
             [
              0.2222222222222222,
              "#7201a8"
             ],
             [
              0.3333333333333333,
              "#9c179e"
             ],
             [
              0.4444444444444444,
              "#bd3786"
             ],
             [
              0.5555555555555556,
              "#d8576b"
             ],
             [
              0.6666666666666666,
              "#ed7953"
             ],
             [
              0.7777777777777778,
              "#fb9f3a"
             ],
             [
              0.8888888888888888,
              "#fdca26"
             ],
             [
              1,
              "#f0f921"
             ]
            ],
            "type": "histogram2dcontour"
           }
          ],
          "mesh3d": [
           {
            "colorbar": {
             "outlinewidth": 0,
             "ticks": ""
            },
            "type": "mesh3d"
           }
          ],
          "parcoords": [
           {
            "line": {
             "colorbar": {
              "outlinewidth": 0,
              "ticks": ""
             }
            },
            "type": "parcoords"
           }
          ],
          "pie": [
           {
            "automargin": true,
            "type": "pie"
           }
          ],
          "scatter": [
           {
            "marker": {
             "colorbar": {
              "outlinewidth": 0,
              "ticks": ""
             }
            },
            "type": "scatter"
           }
          ],
          "scatter3d": [
           {
            "line": {
             "colorbar": {
              "outlinewidth": 0,
              "ticks": ""
             }
            },
            "marker": {
             "colorbar": {
              "outlinewidth": 0,
              "ticks": ""
             }
            },
            "type": "scatter3d"
           }
          ],
          "scattercarpet": [
           {
            "marker": {
             "colorbar": {
              "outlinewidth": 0,
              "ticks": ""
             }
            },
            "type": "scattercarpet"
           }
          ],
          "scattergeo": [
           {
            "marker": {
             "colorbar": {
              "outlinewidth": 0,
              "ticks": ""
             }
            },
            "type": "scattergeo"
           }
          ],
          "scattergl": [
           {
            "marker": {
             "colorbar": {
              "outlinewidth": 0,
              "ticks": ""
             }
            },
            "type": "scattergl"
           }
          ],
          "scattermapbox": [
           {
            "marker": {
             "colorbar": {
              "outlinewidth": 0,
              "ticks": ""
             }
            },
            "type": "scattermapbox"
           }
          ],
          "scatterpolar": [
           {
            "marker": {
             "colorbar": {
              "outlinewidth": 0,
              "ticks": ""
             }
            },
            "type": "scatterpolar"
           }
          ],
          "scatterpolargl": [
           {
            "marker": {
             "colorbar": {
              "outlinewidth": 0,
              "ticks": ""
             }
            },
            "type": "scatterpolargl"
           }
          ],
          "scatterternary": [
           {
            "marker": {
             "colorbar": {
              "outlinewidth": 0,
              "ticks": ""
             }
            },
            "type": "scatterternary"
           }
          ],
          "surface": [
           {
            "colorbar": {
             "outlinewidth": 0,
             "ticks": ""
            },
            "colorscale": [
             [
              0,
              "#0d0887"
             ],
             [
              0.1111111111111111,
              "#46039f"
             ],
             [
              0.2222222222222222,
              "#7201a8"
             ],
             [
              0.3333333333333333,
              "#9c179e"
             ],
             [
              0.4444444444444444,
              "#bd3786"
             ],
             [
              0.5555555555555556,
              "#d8576b"
             ],
             [
              0.6666666666666666,
              "#ed7953"
             ],
             [
              0.7777777777777778,
              "#fb9f3a"
             ],
             [
              0.8888888888888888,
              "#fdca26"
             ],
             [
              1,
              "#f0f921"
             ]
            ],
            "type": "surface"
           }
          ],
          "table": [
           {
            "cells": {
             "fill": {
              "color": "#EBF0F8"
             },
             "line": {
              "color": "white"
             }
            },
            "header": {
             "fill": {
              "color": "#C8D4E3"
             },
             "line": {
              "color": "white"
             }
            },
            "type": "table"
           }
          ]
         },
         "layout": {
          "annotationdefaults": {
           "arrowcolor": "#2a3f5f",
           "arrowhead": 0,
           "arrowwidth": 1
          },
          "autotypenumbers": "strict",
          "coloraxis": {
           "colorbar": {
            "outlinewidth": 0,
            "ticks": ""
           }
          },
          "colorscale": {
           "diverging": [
            [
             0,
             "#8e0152"
            ],
            [
             0.1,
             "#c51b7d"
            ],
            [
             0.2,
             "#de77ae"
            ],
            [
             0.3,
             "#f1b6da"
            ],
            [
             0.4,
             "#fde0ef"
            ],
            [
             0.5,
             "#f7f7f7"
            ],
            [
             0.6,
             "#e6f5d0"
            ],
            [
             0.7,
             "#b8e186"
            ],
            [
             0.8,
             "#7fbc41"
            ],
            [
             0.9,
             "#4d9221"
            ],
            [
             1,
             "#276419"
            ]
           ],
           "sequential": [
            [
             0,
             "#0d0887"
            ],
            [
             0.1111111111111111,
             "#46039f"
            ],
            [
             0.2222222222222222,
             "#7201a8"
            ],
            [
             0.3333333333333333,
             "#9c179e"
            ],
            [
             0.4444444444444444,
             "#bd3786"
            ],
            [
             0.5555555555555556,
             "#d8576b"
            ],
            [
             0.6666666666666666,
             "#ed7953"
            ],
            [
             0.7777777777777778,
             "#fb9f3a"
            ],
            [
             0.8888888888888888,
             "#fdca26"
            ],
            [
             1,
             "#f0f921"
            ]
           ],
           "sequentialminus": [
            [
             0,
             "#0d0887"
            ],
            [
             0.1111111111111111,
             "#46039f"
            ],
            [
             0.2222222222222222,
             "#7201a8"
            ],
            [
             0.3333333333333333,
             "#9c179e"
            ],
            [
             0.4444444444444444,
             "#bd3786"
            ],
            [
             0.5555555555555556,
             "#d8576b"
            ],
            [
             0.6666666666666666,
             "#ed7953"
            ],
            [
             0.7777777777777778,
             "#fb9f3a"
            ],
            [
             0.8888888888888888,
             "#fdca26"
            ],
            [
             1,
             "#f0f921"
            ]
           ]
          },
          "colorway": [
           "#636efa",
           "#EF553B",
           "#00cc96",
           "#ab63fa",
           "#FFA15A",
           "#19d3f3",
           "#FF6692",
           "#B6E880",
           "#FF97FF",
           "#FECB52"
          ],
          "font": {
           "color": "#2a3f5f"
          },
          "geo": {
           "bgcolor": "white",
           "lakecolor": "white",
           "landcolor": "#E5ECF6",
           "showlakes": true,
           "showland": true,
           "subunitcolor": "white"
          },
          "hoverlabel": {
           "align": "left"
          },
          "hovermode": "closest",
          "mapbox": {
           "style": "light"
          },
          "paper_bgcolor": "white",
          "plot_bgcolor": "#E5ECF6",
          "polar": {
           "angularaxis": {
            "gridcolor": "white",
            "linecolor": "white",
            "ticks": ""
           },
           "bgcolor": "#E5ECF6",
           "radialaxis": {
            "gridcolor": "white",
            "linecolor": "white",
            "ticks": ""
           }
          },
          "scene": {
           "xaxis": {
            "backgroundcolor": "#E5ECF6",
            "gridcolor": "white",
            "gridwidth": 2,
            "linecolor": "white",
            "showbackground": true,
            "ticks": "",
            "zerolinecolor": "white"
           },
           "yaxis": {
            "backgroundcolor": "#E5ECF6",
            "gridcolor": "white",
            "gridwidth": 2,
            "linecolor": "white",
            "showbackground": true,
            "ticks": "",
            "zerolinecolor": "white"
           },
           "zaxis": {
            "backgroundcolor": "#E5ECF6",
            "gridcolor": "white",
            "gridwidth": 2,
            "linecolor": "white",
            "showbackground": true,
            "ticks": "",
            "zerolinecolor": "white"
           }
          },
          "shapedefaults": {
           "line": {
            "color": "#2a3f5f"
           }
          },
          "ternary": {
           "aaxis": {
            "gridcolor": "white",
            "linecolor": "white",
            "ticks": ""
           },
           "baxis": {
            "gridcolor": "white",
            "linecolor": "white",
            "ticks": ""
           },
           "bgcolor": "#E5ECF6",
           "caxis": {
            "gridcolor": "white",
            "linecolor": "white",
            "ticks": ""
           }
          },
          "title": {
           "x": 0.05
          },
          "xaxis": {
           "automargin": true,
           "gridcolor": "white",
           "linecolor": "white",
           "ticks": "",
           "title": {
            "standoff": 15
           },
           "zerolinecolor": "white",
           "zerolinewidth": 2
          },
          "yaxis": {
           "automargin": true,
           "gridcolor": "white",
           "linecolor": "white",
           "ticks": "",
           "title": {
            "standoff": 15
           },
           "zerolinecolor": "white",
           "zerolinewidth": 2
          }
         }
        },
        "title": {
         "text": "Percent of Family Owned Businesses by State, USA"
        }
       }
      }
     },
     "metadata": {},
     "output_type": "display_data"
    }
   ],
   "source": [
    "# Number of Family Owned Businesses by State, USA\n",
    "\n",
    "fig = go.Figure(data=go.Choropleth(\n",
    "    locations=business_statename_plot['Abbrev'], # Spatial coordinates\n",
    "    z = business_statename_plot['PercentFamilyOwned'].astype(float), # Data to be color-coded\n",
    "    locationmode = 'USA-states', # set of locations match entries in `locations`\n",
    "    colorscale = 'purples',\n",
    "    colorbar_title = \"% of Total Businesses\",\n",
    "))\n",
    "\n",
    "fig.update_layout(\n",
    "    title_text = 'Percent of Family Owned Businesses by State, USA',\n",
    "    geo_scope='usa', # limite map scope to USA\n",
    ")\n",
    "\n",
    "fig.show()"
   ]
  },
  {
   "cell_type": "code",
   "execution_count": 59,
   "metadata": {},
   "outputs": [
    {
     "data": {
      "application/vnd.plotly.v1+json": {
       "config": {
        "plotlyServerURL": "https://plot.ly"
       },
       "data": [
        {
         "colorbar": {
          "title": {
           "text": "Businesses"
          }
         },
         "colorscale": [
          [
           0,
           "rgb(252,251,253)"
          ],
          [
           0.125,
           "rgb(239,237,245)"
          ],
          [
           0.25,
           "rgb(218,218,235)"
          ],
          [
           0.375,
           "rgb(188,189,220)"
          ],
          [
           0.5,
           "rgb(158,154,200)"
          ],
          [
           0.625,
           "rgb(128,125,186)"
          ],
          [
           0.75,
           "rgb(106,81,163)"
          ],
          [
           0.875,
           "rgb(84,39,143)"
          ],
          [
           1,
           "rgb(63,0,125)"
          ]
         ],
         "locationmode": "USA-states",
         "locations": [
          "MS",
          "MO",
          "MT",
          "NE",
          "NV",
          "NH",
          "NJ",
          "NM",
          "NY",
          "NC",
          "ND",
          "OH",
          "OK",
          "OR",
          "PA",
          "RI",
          "SC",
          "SD",
          "TN",
          "TX",
          "VT",
          "UT",
          "VA",
          "WA",
          "WV",
          "WI",
          "WY",
          "AL",
          "AK",
          "AZ",
          "AR",
          "CA",
          "CO",
          "DE",
          "DC",
          "ID",
          "CT",
          "FL",
          "GA",
          "HI",
          "IL",
          "IN",
          "IA",
          "KS",
          "KY",
          "LA",
          "ME",
          "MD",
          "MA",
          "MI",
          "MN"
         ],
         "type": "choropleth",
         "z": [
          4744,
          18034,
          6419,
          8466,
          5855,
          2956,
          19410,
          5038,
          38139,
          25107,
          3058,
          24839,
          10571,
          15339,
          27665,
          1875,
          8861,
          4200,
          12734,
          60960,
          2407,
          11026,
          19370,
          26063,
          3346,
          20517,
          2622,
          7975,
          1753,
          16716,
          6917,
          103974,
          20444,
          1869,
          674,
          7774,
          6945,
          57907,
          19559,
          2383,
          29363,
          17759,
          10787,
          8958,
          9152,
          9690,
          4604,
          11833,
          12878,
          21353,
          17863
         ]
        }
       ],
       "layout": {
        "geo": {
         "scope": "usa"
        },
        "template": {
         "data": {
          "bar": [
           {
            "error_x": {
             "color": "#2a3f5f"
            },
            "error_y": {
             "color": "#2a3f5f"
            },
            "marker": {
             "line": {
              "color": "#E5ECF6",
              "width": 0.5
             },
             "pattern": {
              "fillmode": "overlay",
              "size": 10,
              "solidity": 0.2
             }
            },
            "type": "bar"
           }
          ],
          "barpolar": [
           {
            "marker": {
             "line": {
              "color": "#E5ECF6",
              "width": 0.5
             },
             "pattern": {
              "fillmode": "overlay",
              "size": 10,
              "solidity": 0.2
             }
            },
            "type": "barpolar"
           }
          ],
          "carpet": [
           {
            "aaxis": {
             "endlinecolor": "#2a3f5f",
             "gridcolor": "white",
             "linecolor": "white",
             "minorgridcolor": "white",
             "startlinecolor": "#2a3f5f"
            },
            "baxis": {
             "endlinecolor": "#2a3f5f",
             "gridcolor": "white",
             "linecolor": "white",
             "minorgridcolor": "white",
             "startlinecolor": "#2a3f5f"
            },
            "type": "carpet"
           }
          ],
          "choropleth": [
           {
            "colorbar": {
             "outlinewidth": 0,
             "ticks": ""
            },
            "type": "choropleth"
           }
          ],
          "contour": [
           {
            "colorbar": {
             "outlinewidth": 0,
             "ticks": ""
            },
            "colorscale": [
             [
              0,
              "#0d0887"
             ],
             [
              0.1111111111111111,
              "#46039f"
             ],
             [
              0.2222222222222222,
              "#7201a8"
             ],
             [
              0.3333333333333333,
              "#9c179e"
             ],
             [
              0.4444444444444444,
              "#bd3786"
             ],
             [
              0.5555555555555556,
              "#d8576b"
             ],
             [
              0.6666666666666666,
              "#ed7953"
             ],
             [
              0.7777777777777778,
              "#fb9f3a"
             ],
             [
              0.8888888888888888,
              "#fdca26"
             ],
             [
              1,
              "#f0f921"
             ]
            ],
            "type": "contour"
           }
          ],
          "contourcarpet": [
           {
            "colorbar": {
             "outlinewidth": 0,
             "ticks": ""
            },
            "type": "contourcarpet"
           }
          ],
          "heatmap": [
           {
            "colorbar": {
             "outlinewidth": 0,
             "ticks": ""
            },
            "colorscale": [
             [
              0,
              "#0d0887"
             ],
             [
              0.1111111111111111,
              "#46039f"
             ],
             [
              0.2222222222222222,
              "#7201a8"
             ],
             [
              0.3333333333333333,
              "#9c179e"
             ],
             [
              0.4444444444444444,
              "#bd3786"
             ],
             [
              0.5555555555555556,
              "#d8576b"
             ],
             [
              0.6666666666666666,
              "#ed7953"
             ],
             [
              0.7777777777777778,
              "#fb9f3a"
             ],
             [
              0.8888888888888888,
              "#fdca26"
             ],
             [
              1,
              "#f0f921"
             ]
            ],
            "type": "heatmap"
           }
          ],
          "heatmapgl": [
           {
            "colorbar": {
             "outlinewidth": 0,
             "ticks": ""
            },
            "colorscale": [
             [
              0,
              "#0d0887"
             ],
             [
              0.1111111111111111,
              "#46039f"
             ],
             [
              0.2222222222222222,
              "#7201a8"
             ],
             [
              0.3333333333333333,
              "#9c179e"
             ],
             [
              0.4444444444444444,
              "#bd3786"
             ],
             [
              0.5555555555555556,
              "#d8576b"
             ],
             [
              0.6666666666666666,
              "#ed7953"
             ],
             [
              0.7777777777777778,
              "#fb9f3a"
             ],
             [
              0.8888888888888888,
              "#fdca26"
             ],
             [
              1,
              "#f0f921"
             ]
            ],
            "type": "heatmapgl"
           }
          ],
          "histogram": [
           {
            "marker": {
             "pattern": {
              "fillmode": "overlay",
              "size": 10,
              "solidity": 0.2
             }
            },
            "type": "histogram"
           }
          ],
          "histogram2d": [
           {
            "colorbar": {
             "outlinewidth": 0,
             "ticks": ""
            },
            "colorscale": [
             [
              0,
              "#0d0887"
             ],
             [
              0.1111111111111111,
              "#46039f"
             ],
             [
              0.2222222222222222,
              "#7201a8"
             ],
             [
              0.3333333333333333,
              "#9c179e"
             ],
             [
              0.4444444444444444,
              "#bd3786"
             ],
             [
              0.5555555555555556,
              "#d8576b"
             ],
             [
              0.6666666666666666,
              "#ed7953"
             ],
             [
              0.7777777777777778,
              "#fb9f3a"
             ],
             [
              0.8888888888888888,
              "#fdca26"
             ],
             [
              1,
              "#f0f921"
             ]
            ],
            "type": "histogram2d"
           }
          ],
          "histogram2dcontour": [
           {
            "colorbar": {
             "outlinewidth": 0,
             "ticks": ""
            },
            "colorscale": [
             [
              0,
              "#0d0887"
             ],
             [
              0.1111111111111111,
              "#46039f"
             ],
             [
              0.2222222222222222,
              "#7201a8"
             ],
             [
              0.3333333333333333,
              "#9c179e"
             ],
             [
              0.4444444444444444,
              "#bd3786"
             ],
             [
              0.5555555555555556,
              "#d8576b"
             ],
             [
              0.6666666666666666,
              "#ed7953"
             ],
             [
              0.7777777777777778,
              "#fb9f3a"
             ],
             [
              0.8888888888888888,
              "#fdca26"
             ],
             [
              1,
              "#f0f921"
             ]
            ],
            "type": "histogram2dcontour"
           }
          ],
          "mesh3d": [
           {
            "colorbar": {
             "outlinewidth": 0,
             "ticks": ""
            },
            "type": "mesh3d"
           }
          ],
          "parcoords": [
           {
            "line": {
             "colorbar": {
              "outlinewidth": 0,
              "ticks": ""
             }
            },
            "type": "parcoords"
           }
          ],
          "pie": [
           {
            "automargin": true,
            "type": "pie"
           }
          ],
          "scatter": [
           {
            "marker": {
             "colorbar": {
              "outlinewidth": 0,
              "ticks": ""
             }
            },
            "type": "scatter"
           }
          ],
          "scatter3d": [
           {
            "line": {
             "colorbar": {
              "outlinewidth": 0,
              "ticks": ""
             }
            },
            "marker": {
             "colorbar": {
              "outlinewidth": 0,
              "ticks": ""
             }
            },
            "type": "scatter3d"
           }
          ],
          "scattercarpet": [
           {
            "marker": {
             "colorbar": {
              "outlinewidth": 0,
              "ticks": ""
             }
            },
            "type": "scattercarpet"
           }
          ],
          "scattergeo": [
           {
            "marker": {
             "colorbar": {
              "outlinewidth": 0,
              "ticks": ""
             }
            },
            "type": "scattergeo"
           }
          ],
          "scattergl": [
           {
            "marker": {
             "colorbar": {
              "outlinewidth": 0,
              "ticks": ""
             }
            },
            "type": "scattergl"
           }
          ],
          "scattermapbox": [
           {
            "marker": {
             "colorbar": {
              "outlinewidth": 0,
              "ticks": ""
             }
            },
            "type": "scattermapbox"
           }
          ],
          "scatterpolar": [
           {
            "marker": {
             "colorbar": {
              "outlinewidth": 0,
              "ticks": ""
             }
            },
            "type": "scatterpolar"
           }
          ],
          "scatterpolargl": [
           {
            "marker": {
             "colorbar": {
              "outlinewidth": 0,
              "ticks": ""
             }
            },
            "type": "scatterpolargl"
           }
          ],
          "scatterternary": [
           {
            "marker": {
             "colorbar": {
              "outlinewidth": 0,
              "ticks": ""
             }
            },
            "type": "scatterternary"
           }
          ],
          "surface": [
           {
            "colorbar": {
             "outlinewidth": 0,
             "ticks": ""
            },
            "colorscale": [
             [
              0,
              "#0d0887"
             ],
             [
              0.1111111111111111,
              "#46039f"
             ],
             [
              0.2222222222222222,
              "#7201a8"
             ],
             [
              0.3333333333333333,
              "#9c179e"
             ],
             [
              0.4444444444444444,
              "#bd3786"
             ],
             [
              0.5555555555555556,
              "#d8576b"
             ],
             [
              0.6666666666666666,
              "#ed7953"
             ],
             [
              0.7777777777777778,
              "#fb9f3a"
             ],
             [
              0.8888888888888888,
              "#fdca26"
             ],
             [
              1,
              "#f0f921"
             ]
            ],
            "type": "surface"
           }
          ],
          "table": [
           {
            "cells": {
             "fill": {
              "color": "#EBF0F8"
             },
             "line": {
              "color": "white"
             }
            },
            "header": {
             "fill": {
              "color": "#C8D4E3"
             },
             "line": {
              "color": "white"
             }
            },
            "type": "table"
           }
          ]
         },
         "layout": {
          "annotationdefaults": {
           "arrowcolor": "#2a3f5f",
           "arrowhead": 0,
           "arrowwidth": 1
          },
          "autotypenumbers": "strict",
          "coloraxis": {
           "colorbar": {
            "outlinewidth": 0,
            "ticks": ""
           }
          },
          "colorscale": {
           "diverging": [
            [
             0,
             "#8e0152"
            ],
            [
             0.1,
             "#c51b7d"
            ],
            [
             0.2,
             "#de77ae"
            ],
            [
             0.3,
             "#f1b6da"
            ],
            [
             0.4,
             "#fde0ef"
            ],
            [
             0.5,
             "#f7f7f7"
            ],
            [
             0.6,
             "#e6f5d0"
            ],
            [
             0.7,
             "#b8e186"
            ],
            [
             0.8,
             "#7fbc41"
            ],
            [
             0.9,
             "#4d9221"
            ],
            [
             1,
             "#276419"
            ]
           ],
           "sequential": [
            [
             0,
             "#0d0887"
            ],
            [
             0.1111111111111111,
             "#46039f"
            ],
            [
             0.2222222222222222,
             "#7201a8"
            ],
            [
             0.3333333333333333,
             "#9c179e"
            ],
            [
             0.4444444444444444,
             "#bd3786"
            ],
            [
             0.5555555555555556,
             "#d8576b"
            ],
            [
             0.6666666666666666,
             "#ed7953"
            ],
            [
             0.7777777777777778,
             "#fb9f3a"
            ],
            [
             0.8888888888888888,
             "#fdca26"
            ],
            [
             1,
             "#f0f921"
            ]
           ],
           "sequentialminus": [
            [
             0,
             "#0d0887"
            ],
            [
             0.1111111111111111,
             "#46039f"
            ],
            [
             0.2222222222222222,
             "#7201a8"
            ],
            [
             0.3333333333333333,
             "#9c179e"
            ],
            [
             0.4444444444444444,
             "#bd3786"
            ],
            [
             0.5555555555555556,
             "#d8576b"
            ],
            [
             0.6666666666666666,
             "#ed7953"
            ],
            [
             0.7777777777777778,
             "#fb9f3a"
            ],
            [
             0.8888888888888888,
             "#fdca26"
            ],
            [
             1,
             "#f0f921"
            ]
           ]
          },
          "colorway": [
           "#636efa",
           "#EF553B",
           "#00cc96",
           "#ab63fa",
           "#FFA15A",
           "#19d3f3",
           "#FF6692",
           "#B6E880",
           "#FF97FF",
           "#FECB52"
          ],
          "font": {
           "color": "#2a3f5f"
          },
          "geo": {
           "bgcolor": "white",
           "lakecolor": "white",
           "landcolor": "#E5ECF6",
           "showlakes": true,
           "showland": true,
           "subunitcolor": "white"
          },
          "hoverlabel": {
           "align": "left"
          },
          "hovermode": "closest",
          "mapbox": {
           "style": "light"
          },
          "paper_bgcolor": "white",
          "plot_bgcolor": "#E5ECF6",
          "polar": {
           "angularaxis": {
            "gridcolor": "white",
            "linecolor": "white",
            "ticks": ""
           },
           "bgcolor": "#E5ECF6",
           "radialaxis": {
            "gridcolor": "white",
            "linecolor": "white",
            "ticks": ""
           }
          },
          "scene": {
           "xaxis": {
            "backgroundcolor": "#E5ECF6",
            "gridcolor": "white",
            "gridwidth": 2,
            "linecolor": "white",
            "showbackground": true,
            "ticks": "",
            "zerolinecolor": "white"
           },
           "yaxis": {
            "backgroundcolor": "#E5ECF6",
            "gridcolor": "white",
            "gridwidth": 2,
            "linecolor": "white",
            "showbackground": true,
            "ticks": "",
            "zerolinecolor": "white"
           },
           "zaxis": {
            "backgroundcolor": "#E5ECF6",
            "gridcolor": "white",
            "gridwidth": 2,
            "linecolor": "white",
            "showbackground": true,
            "ticks": "",
            "zerolinecolor": "white"
           }
          },
          "shapedefaults": {
           "line": {
            "color": "#2a3f5f"
           }
          },
          "ternary": {
           "aaxis": {
            "gridcolor": "white",
            "linecolor": "white",
            "ticks": ""
           },
           "baxis": {
            "gridcolor": "white",
            "linecolor": "white",
            "ticks": ""
           },
           "bgcolor": "#E5ECF6",
           "caxis": {
            "gridcolor": "white",
            "linecolor": "white",
            "ticks": ""
           }
          },
          "title": {
           "x": 0.05
          },
          "xaxis": {
           "automargin": true,
           "gridcolor": "white",
           "linecolor": "white",
           "ticks": "",
           "title": {
            "standoff": 15
           },
           "zerolinecolor": "white",
           "zerolinewidth": 2
          },
          "yaxis": {
           "automargin": true,
           "gridcolor": "white",
           "linecolor": "white",
           "ticks": "",
           "title": {
            "standoff": 15
           },
           "zerolinecolor": "white",
           "zerolinewidth": 2
          }
         }
        },
        "title": {
         "text": "Number of Family Owned Businesses by State, USA"
        }
       }
      }
     },
     "metadata": {},
     "output_type": "display_data"
    }
   ],
   "source": [
    "fig = go.Figure(data=go.Choropleth(\n",
    "    locations=business_statename_plot['Abbrev'], # Spatial coordinates\n",
    "    z = business_statename_plot['FIRMPDEMP'].astype(float), # Data to be color-coded\n",
    "    locationmode = 'USA-states', # set of locations match entries in `locations`\n",
    "    colorscale = 'purples',\n",
    "    colorbar_title = \"Businesses\",\n",
    "))\n",
    "\n",
    "fig.update_layout(\n",
    "    title_text = 'Number of Family Owned Businesses by State, USA',\n",
    "    geo_scope='usa', # limite map scope to USA\n",
    ")\n",
    "\n",
    "fig.show()"
   ]
  },
  {
   "cell_type": "markdown",
   "metadata": {},
   "source": [
    "### Barplot: Reason for ownership of business\n",
    "- Continuing a family business\n",
    "\n",
    "Queried from the business owner characteristics API"
   ]
  },
  {
   "cell_type": "code",
   "execution_count": 63,
   "metadata": {},
   "outputs": [
    {
     "data": {
      "text/html": [
       "<div>\n",
       "<style scoped>\n",
       "    .dataframe tbody tr th:only-of-type {\n",
       "        vertical-align: middle;\n",
       "    }\n",
       "\n",
       "    .dataframe tbody tr th {\n",
       "        vertical-align: top;\n",
       "    }\n",
       "\n",
       "    .dataframe thead th {\n",
       "        text-align: right;\n",
       "    }\n",
       "</style>\n",
       "<table border=\"1\" class=\"dataframe\">\n",
       "  <thead>\n",
       "    <tr style=\"text-align: right;\">\n",
       "      <th></th>\n",
       "      <th>OWNPDEMP</th>\n",
       "      <th>OWNCHAR</th>\n",
       "      <th>Label</th>\n",
       "    </tr>\n",
       "  </thead>\n",
       "  <tbody>\n",
       "    <tr>\n",
       "      <th>82</th>\n",
       "      <td>2717912</td>\n",
       "      <td>OR1N</td>\n",
       "      <td>Not important</td>\n",
       "    </tr>\n",
       "    <tr>\n",
       "      <th>83</th>\n",
       "      <td>602435</td>\n",
       "      <td>OR1S</td>\n",
       "      <td>Somewhat important</td>\n",
       "    </tr>\n",
       "    <tr>\n",
       "      <th>84</th>\n",
       "      <td>752938</td>\n",
       "      <td>OR1V</td>\n",
       "      <td>Very important</td>\n",
       "    </tr>\n",
       "  </tbody>\n",
       "</table>\n",
       "</div>"
      ],
      "text/plain": [
       "0   OWNPDEMP OWNCHAR               Label\n",
       "82   2717912    OR1N       Not important\n",
       "83    602435    OR1S  Somewhat important\n",
       "84    752938    OR1V      Very important"
      ]
     },
     "execution_count": 63,
     "metadata": {},
     "output_type": "execute_result"
    }
   ],
   "source": [
    "owner = pd.read_json(f'https://api.census.gov/data/2018/abscbo?get=NAME,OWNPDEMP,QDESC,OWNCHAR,OWNCHAR_LABEL,OWNER_SEX_LABEL,OWNER_RACE_LABEL&for=us&NAICS2017=00&key={api_key}')\n",
    "# Fixed Headers\n",
    "owner.columns = owner.iloc[0]\n",
    "owner =  owner.iloc[1:].reset_index(drop=True)\n",
    "owner['OWNPDEMP'] = owner['OWNPDEMP'].astype(int)\n",
    "\n",
    "familyowned = owner[['OWNPDEMP','OWNCHAR']]\n",
    "familyowned = familyowned[familyowned['OWNCHAR'].isin(['OR1N','OR1S','OR1V'])]\n",
    "labelmap = {'OR1N':'Not important','OR1S':'Somewhat important','OR1V':'Very important'}\n",
    "familyowned['Label'] = familyowned['OWNCHAR'].map(lambda x: labelmap.get(x))\n",
    "familyowned"
   ]
  },
  {
   "cell_type": "code",
   "execution_count": 67,
   "metadata": {},
   "outputs": [
    {
     "data": {
      "text/plain": [
       "Text(0.5, 1.0, 'Importance for Owners to Carry On Family Business')"
      ]
     },
     "execution_count": 67,
     "metadata": {},
     "output_type": "execute_result"
    },
    {
     "data": {
      "image/png": "[encoded data removed]",
      "text/plain": [
       "<Figure size 432x288 with 1 Axes>"
      ]
     },
     "metadata": {},
     "output_type": "display_data"
    }
   ],
   "source": [
    "ax = sns.barplot(x=familyowned['Label'], y=familyowned['OWNPDEMP'], palette=['#5932C4', '#C45932', '#C45932'], data=familyowned)\n",
    "# ax.set_xlabel('Importance of Carrying on the Family Business', size=10)\n",
    "ax.set_ylabel('Number of Business Owners (millions)', size=10)\n",
    "ax.set_title('Importance for Owners to Carry On Family Business')"
   ]
  },
  {
   "cell_type": "markdown",
   "metadata": {},
   "source": [
    "### Firms By Employee Numbers\n",
    "\n",
    "Queried from Business Characteristics API dataset"
   ]
  },
  {
   "cell_type": "code",
   "execution_count": 68,
   "metadata": {},
   "outputs": [
    {
     "data": {
      "text/plain": [
       "count             60.0\n",
       "mean     376244.033333\n",
       "std      915096.769979\n",
       "min               22.0\n",
       "25%            7233.25\n",
       "50%            34490.0\n",
       "75%           244818.0\n",
       "max          5722142.0\n",
       "Name: FIRMPDEMP, dtype: object"
      ]
     },
     "execution_count": 68,
     "metadata": {},
     "output_type": "execute_result"
    }
   ],
   "source": [
    "us_char = pd.read_json(f'https://api.census.gov/data/2018/abscb?get=NAME,BUSCHAR,EMPSZFI,EMPSZFI_LABEL,FIRMPDEMP&for=us:*&NAICS2017=00&QDESC=B02&key={api_key}')\n",
    "# Fixed Headers\n",
    "us_char.columns = us_char.iloc[0]\n",
    "us_char = us_char.iloc[1:].reset_index(drop=True)\n",
    "# Changed Data Type and Ran Describe\n",
    "us_char['FIRMPDEMP'] = us_char['FIRMPDEMP'].astype(int)\n",
    "us_char.FIRMPDEMP.describe().astype(object)"
   ]
  },
  {
   "cell_type": "code",
   "execution_count": 69,
   "metadata": {},
   "outputs": [
    {
     "data": {
      "text/html": [
       "<div>\n",
       "<style scoped>\n",
       "    .dataframe tbody tr th:only-of-type {\n",
       "        vertical-align: middle;\n",
       "    }\n",
       "\n",
       "    .dataframe tbody tr th {\n",
       "        vertical-align: top;\n",
       "    }\n",
       "\n",
       "    .dataframe thead th {\n",
       "        text-align: right;\n",
       "    }\n",
       "</style>\n",
       "<table border=\"1\" class=\"dataframe\">\n",
       "  <thead>\n",
       "    <tr style=\"text-align: right;\">\n",
       "      <th></th>\n",
       "      <th>BUSCHAR</th>\n",
       "      <th>EMPSZFI_LABEL</th>\n",
       "      <th>FIRMPDEMP</th>\n",
       "    </tr>\n",
       "  </thead>\n",
       "  <tbody>\n",
       "    <tr>\n",
       "      <th>7</th>\n",
       "      <td>BM</td>\n",
       "      <td>Firms with no employees</td>\n",
       "      <td>58025</td>\n",
       "    </tr>\n",
       "    <tr>\n",
       "      <th>8</th>\n",
       "      <td>BN</td>\n",
       "      <td>Firms with no employees</td>\n",
       "      <td>164836</td>\n",
       "    </tr>\n",
       "    <tr>\n",
       "      <th>13</th>\n",
       "      <td>BM</td>\n",
       "      <td>Firms with 1 to 4 employees</td>\n",
       "      <td>370201</td>\n",
       "    </tr>\n",
       "    <tr>\n",
       "      <th>14</th>\n",
       "      <td>BN</td>\n",
       "      <td>Firms with 1 to 4 employees</td>\n",
       "      <td>1038613</td>\n",
       "    </tr>\n",
       "    <tr>\n",
       "      <th>19</th>\n",
       "      <td>BM</td>\n",
       "      <td>Firms with 5 to 9 employees</td>\n",
       "      <td>158710</td>\n",
       "    </tr>\n",
       "  </tbody>\n",
       "</table>\n",
       "</div>"
      ],
      "text/plain": [
       "0  BUSCHAR                EMPSZFI_LABEL  FIRMPDEMP\n",
       "7       BM      Firms with no employees      58025\n",
       "8       BN      Firms with no employees     164836\n",
       "13      BM  Firms with 1 to 4 employees     370201\n",
       "14      BN  Firms with 1 to 4 employees    1038613\n",
       "19      BM  Firms with 5 to 9 employees     158710"
      ]
     },
     "execution_count": 69,
     "metadata": {},
     "output_type": "execute_result"
    }
   ],
   "source": [
    "# Limited to Needed Columns\n",
    "us_char = us_char[['BUSCHAR', 'EMPSZFI_LABEL', 'FIRMPDEMP']]\n",
    "\n",
    "# Queried firms with family and not family owned labels\n",
    "char_query = us_char.query('(BUSCHAR == \"BN\" or BUSCHAR == \"BM\") and EMPSZFI_LABEL != \"All firms\"')\n",
    "char_query.head()"
   ]
  },
  {
   "cell_type": "code",
   "execution_count": 71,
   "metadata": {},
   "outputs": [
    {
     "data": {
      "image/png": "[encoded data removed]",
      "text/plain": [
       "<Figure size 1080x720 with 1 Axes>"
      ]
     },
     "metadata": {},
     "output_type": "display_data"
    }
   ],
   "source": [
    "# Created separate dataframes for Family and Not Family Owned Businesses\n",
    "family_query = char_query.query('BUSCHAR == \"BM\"')\n",
    "nonfamily_query = char_query.query('BUSCHAR == \"BN\"')\n",
    "\n",
    "# Plotted Bar Chart for Businesses By Number of Employees\n",
    "plt.figure(figsize=(15, 10))\n",
    "plt.ticklabel_format(style='plain')\n",
    "plt.bar(np.arange(len(family_query)) - 0.2, family_query['FIRMPDEMP'], width=0.4, color='#5932C4', label='Family Owned')\n",
    "plt.bar(np.arange(len(nonfamily_query)) + 0.2, nonfamily_query['FIRMPDEMP'], width=0.4, color='#C45932', label='Non-Family Owned')\n",
    "# Created labels to make X axis easier to read\n",
    "simple_labels= ['None', '1 to 4', '5 to 9', '10 to 19', '20 to 49', '50 to 99', '100 to 249', '250 to 499', '500 or more']\n",
    "plt.xticks(range(len(family_query)), simple_labels)\n",
    "plt.title('Family vs Non Family Owned Businesses By Number of Employees')\n",
    "plt.xlabel('Number of Employees')\n",
    "plt.ylabel('Number of Businesses')\n",
    "plt.legend()\n",
    "\n",
    "plt.show()"
   ]
  },
  {
   "cell_type": "markdown",
   "metadata": {},
   "source": [
    "Being an aggragated dataset that was not designed around family owned businesses, we were limited in what information we could glean. The datasets were not easily mergeable either. If the datasets were redone tabulation based off family owned it would open it up further."
   ]
  }
 ],
 "metadata": {
  "kernelspec": {
   "display_name": "Python 3.9.12 ('base')",
   "language": "python",
   "name": "python3"
  },
  "language_info": {
   "codemirror_mode": {
    "name": "ipython",
    "version": 3
   },
   "file_extension": ".py",
   "mimetype": "text/x-python",
   "name": "python",
   "nbconvert_exporter": "python",
   "pygments_lexer": "ipython3",
   "version": "3.9.12"
  },
  "orig_nbformat": 4,
  "vscode": {
   "interpreter": {
    "hash": "ad2bdc8ecc057115af97d19610ffacc2b4e99fae6737bb82f5d7fb13d2f2c186"
   }
  }
 },
 "nbformat": 4,
 "nbformat_minor": 2
}
