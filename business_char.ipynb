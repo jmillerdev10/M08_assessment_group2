{
 "cells": [
  {
   "cell_type": "code",
   "execution_count": 48,
   "metadata": {},
   "outputs": [
    {
     "data": {
      "text/html": [
       "<div>\n",
       "<style scoped>\n",
       "    .dataframe tbody tr th:only-of-type {\n",
       "        vertical-align: middle;\n",
       "    }\n",
       "\n",
       "    .dataframe tbody tr th {\n",
       "        vertical-align: top;\n",
       "    }\n",
       "\n",
       "    .dataframe thead th {\n",
       "        text-align: right;\n",
       "    }\n",
       "</style>\n",
       "<table border=\"1\" class=\"dataframe\">\n",
       "  <thead>\n",
       "    <tr style=\"text-align: right;\">\n",
       "      <th></th>\n",
       "      <th>NAME</th>\n",
       "      <th>BUSCHAR</th>\n",
       "      <th>EMPSZFI</th>\n",
       "      <th>EMPSZFI_LABEL</th>\n",
       "      <th>FIRMPDEMP</th>\n",
       "      <th>NAICS2017</th>\n",
       "      <th>QDESC</th>\n",
       "      <th>us</th>\n",
       "    </tr>\n",
       "  </thead>\n",
       "  <tbody>\n",
       "    <tr>\n",
       "      <th>0</th>\n",
       "      <td>United States</td>\n",
       "      <td>A1</td>\n",
       "      <td>001</td>\n",
       "      <td>All firms</td>\n",
       "      <td>5722142</td>\n",
       "      <td>00</td>\n",
       "      <td>B02</td>\n",
       "      <td>1</td>\n",
       "    </tr>\n",
       "    <tr>\n",
       "      <th>1</th>\n",
       "      <td>United States</td>\n",
       "      <td>BM</td>\n",
       "      <td>001</td>\n",
       "      <td>All firms</td>\n",
       "      <td>787775</td>\n",
       "      <td>00</td>\n",
       "      <td>B02</td>\n",
       "      <td>1</td>\n",
       "    </tr>\n",
       "    <tr>\n",
       "      <th>2</th>\n",
       "      <td>United States</td>\n",
       "      <td>BN</td>\n",
       "      <td>001</td>\n",
       "      <td>All firms</td>\n",
       "      <td>1893857</td>\n",
       "      <td>00</td>\n",
       "      <td>B02</td>\n",
       "      <td>1</td>\n",
       "    </tr>\n",
       "    <tr>\n",
       "      <th>3</th>\n",
       "      <td>United States</td>\n",
       "      <td>BO</td>\n",
       "      <td>001</td>\n",
       "      <td>All firms</td>\n",
       "      <td>2681631</td>\n",
       "      <td>00</td>\n",
       "      <td>B02</td>\n",
       "      <td>1</td>\n",
       "    </tr>\n",
       "    <tr>\n",
       "      <th>4</th>\n",
       "      <td>United States</td>\n",
       "      <td>BP</td>\n",
       "      <td>001</td>\n",
       "      <td>All firms</td>\n",
       "      <td>126346</td>\n",
       "      <td>00</td>\n",
       "      <td>B02</td>\n",
       "      <td>1</td>\n",
       "    </tr>\n",
       "  </tbody>\n",
       "</table>\n",
       "</div>"
      ],
      "text/plain": [
       "0           NAME BUSCHAR EMPSZFI EMPSZFI_LABEL FIRMPDEMP NAICS2017 QDESC us\n",
       "0  United States      A1     001     All firms   5722142        00   B02  1\n",
       "1  United States      BM     001     All firms    787775        00   B02  1\n",
       "2  United States      BN     001     All firms   1893857        00   B02  1\n",
       "3  United States      BO     001     All firms   2681631        00   B02  1\n",
       "4  United States      BP     001     All firms    126346        00   B02  1"
      ]
     },
     "execution_count": 48,
     "metadata": {},
     "output_type": "execute_result"
    }
   ],
   "source": [
    "import pandas as pd\n",
    "from config import api_key\n",
    "\n",
    "# Loads business characteristics by state\n",
    "state_char = pd.read_json(f'https://api.census.gov/data/2018/abscb?get=NAME,BUSCHAR,EMPSZFI,EMPSZFI_LABEL,FIRMPDEMP&for=us:*&NAICS2017=00&QDESC=B02&key={api_key}')\n",
    "state_char.columns = state_char.iloc[0]\n",
    "state_char = state_char.iloc[1:].reset_index(drop=True)\n",
    "state_char.head()"
   ]
  },
  {
   "cell_type": "code",
   "execution_count": 49,
   "metadata": {},
   "outputs": [
    {
     "data": {
      "text/plain": [
       "count             60.0\n",
       "mean     376244.033333\n",
       "std      915096.769979\n",
       "min               22.0\n",
       "25%            7233.25\n",
       "50%            34490.0\n",
       "75%           244818.0\n",
       "max          5722142.0\n",
       "Name: FIRMPDEMP, dtype: object"
      ]
     },
     "execution_count": 49,
     "metadata": {},
     "output_type": "execute_result"
    }
   ],
   "source": [
    "state_char['FIRMPDEMP'] = state_char['FIRMPDEMP'].astype(int)\n",
    "state_char.FIRMPDEMP.describe().astype(object)"
   ]
  },
  {
   "cell_type": "code",
   "execution_count": 50,
   "metadata": {},
   "outputs": [
    {
     "name": "stdout",
     "output_type": "stream",
     "text": [
      "<class 'pandas.core.frame.DataFrame'>\n",
      "RangeIndex: 60 entries, 0 to 59\n",
      "Data columns (total 3 columns):\n",
      " #   Column         Non-Null Count  Dtype \n",
      "---  ------         --------------  ----- \n",
      " 0   BUSCHAR        60 non-null     object\n",
      " 1   EMPSZFI_LABEL  60 non-null     object\n",
      " 2   FIRMPDEMP      60 non-null     int32 \n",
      "dtypes: int32(1), object(2)\n",
      "memory usage: 1.3+ KB\n"
     ]
    }
   ],
   "source": [
    "state_char = state_char[['BUSCHAR', 'EMPSZFI_LABEL', 'FIRMPDEMP']]\n",
    "state_char.info()"
   ]
  },
  {
   "cell_type": "code",
   "execution_count": 51,
   "metadata": {},
   "outputs": [
    {
     "data": {
      "text/html": [
       "<div>\n",
       "<style scoped>\n",
       "    .dataframe tbody tr th:only-of-type {\n",
       "        vertical-align: middle;\n",
       "    }\n",
       "\n",
       "    .dataframe tbody tr th {\n",
       "        vertical-align: top;\n",
       "    }\n",
       "\n",
       "    .dataframe thead th {\n",
       "        text-align: right;\n",
       "    }\n",
       "</style>\n",
       "<table border=\"1\" class=\"dataframe\">\n",
       "  <thead>\n",
       "    <tr style=\"text-align: right;\">\n",
       "      <th></th>\n",
       "      <th>BUSCHAR</th>\n",
       "      <th>EMPSZFI_LABEL</th>\n",
       "      <th>FIRMPDEMP</th>\n",
       "    </tr>\n",
       "  </thead>\n",
       "  <tbody>\n",
       "    <tr>\n",
       "      <th>7</th>\n",
       "      <td>BM</td>\n",
       "      <td>Firms with no employees</td>\n",
       "      <td>58025</td>\n",
       "    </tr>\n",
       "    <tr>\n",
       "      <th>8</th>\n",
       "      <td>BN</td>\n",
       "      <td>Firms with no employees</td>\n",
       "      <td>164836</td>\n",
       "    </tr>\n",
       "    <tr>\n",
       "      <th>13</th>\n",
       "      <td>BM</td>\n",
       "      <td>Firms with 1 to 4 employees</td>\n",
       "      <td>370201</td>\n",
       "    </tr>\n",
       "    <tr>\n",
       "      <th>14</th>\n",
       "      <td>BN</td>\n",
       "      <td>Firms with 1 to 4 employees</td>\n",
       "      <td>1038613</td>\n",
       "    </tr>\n",
       "    <tr>\n",
       "      <th>19</th>\n",
       "      <td>BM</td>\n",
       "      <td>Firms with 5 to 9 employees</td>\n",
       "      <td>158710</td>\n",
       "    </tr>\n",
       "    <tr>\n",
       "      <th>20</th>\n",
       "      <td>BN</td>\n",
       "      <td>Firms with 5 to 9 employees</td>\n",
       "      <td>338052</td>\n",
       "    </tr>\n",
       "    <tr>\n",
       "      <th>25</th>\n",
       "      <td>BM</td>\n",
       "      <td>Firms with 10 to 19 employees</td>\n",
       "      <td>108505</td>\n",
       "    </tr>\n",
       "    <tr>\n",
       "      <th>26</th>\n",
       "      <td>BN</td>\n",
       "      <td>Firms with 10 to 19 employees</td>\n",
       "      <td>202187</td>\n",
       "    </tr>\n",
       "    <tr>\n",
       "      <th>31</th>\n",
       "      <td>BM</td>\n",
       "      <td>Firms with 20 to 49 employees</td>\n",
       "      <td>68627</td>\n",
       "    </tr>\n",
       "    <tr>\n",
       "      <th>32</th>\n",
       "      <td>BN</td>\n",
       "      <td>Firms with 20 to 49 employees</td>\n",
       "      <td>112244</td>\n",
       "    </tr>\n",
       "    <tr>\n",
       "      <th>37</th>\n",
       "      <td>BM</td>\n",
       "      <td>Firms with 50 to 99 employees</td>\n",
       "      <td>16044</td>\n",
       "    </tr>\n",
       "    <tr>\n",
       "      <th>38</th>\n",
       "      <td>BN</td>\n",
       "      <td>Firms with 50 to 99 employees</td>\n",
       "      <td>26467</td>\n",
       "    </tr>\n",
       "    <tr>\n",
       "      <th>43</th>\n",
       "      <td>BM</td>\n",
       "      <td>Firms with 100 to 249 employees</td>\n",
       "      <td>6224</td>\n",
       "    </tr>\n",
       "    <tr>\n",
       "      <th>44</th>\n",
       "      <td>BN</td>\n",
       "      <td>Firms with 100 to 249 employees</td>\n",
       "      <td>9478</td>\n",
       "    </tr>\n",
       "    <tr>\n",
       "      <th>49</th>\n",
       "      <td>BM</td>\n",
       "      <td>Firms with 250 to 499 employees</td>\n",
       "      <td>1174</td>\n",
       "    </tr>\n",
       "    <tr>\n",
       "      <th>50</th>\n",
       "      <td>BN</td>\n",
       "      <td>Firms with 250 to 499 employees</td>\n",
       "      <td>1597</td>\n",
       "    </tr>\n",
       "    <tr>\n",
       "      <th>55</th>\n",
       "      <td>BM</td>\n",
       "      <td>Firms with 500 employees or more</td>\n",
       "      <td>264</td>\n",
       "    </tr>\n",
       "    <tr>\n",
       "      <th>56</th>\n",
       "      <td>BN</td>\n",
       "      <td>Firms with 500 employees or more</td>\n",
       "      <td>386</td>\n",
       "    </tr>\n",
       "  </tbody>\n",
       "</table>\n",
       "</div>"
      ],
      "text/plain": [
       "0  BUSCHAR                     EMPSZFI_LABEL  FIRMPDEMP\n",
       "7       BM           Firms with no employees      58025\n",
       "8       BN           Firms with no employees     164836\n",
       "13      BM       Firms with 1 to 4 employees     370201\n",
       "14      BN       Firms with 1 to 4 employees    1038613\n",
       "19      BM       Firms with 5 to 9 employees     158710\n",
       "20      BN       Firms with 5 to 9 employees     338052\n",
       "25      BM     Firms with 10 to 19 employees     108505\n",
       "26      BN     Firms with 10 to 19 employees     202187\n",
       "31      BM     Firms with 20 to 49 employees      68627\n",
       "32      BN     Firms with 20 to 49 employees     112244\n",
       "37      BM     Firms with 50 to 99 employees      16044\n",
       "38      BN     Firms with 50 to 99 employees      26467\n",
       "43      BM   Firms with 100 to 249 employees       6224\n",
       "44      BN   Firms with 100 to 249 employees       9478\n",
       "49      BM   Firms with 250 to 499 employees       1174\n",
       "50      BN   Firms with 250 to 499 employees       1597\n",
       "55      BM  Firms with 500 employees or more        264\n",
       "56      BN  Firms with 500 employees or more        386"
      ]
     },
     "execution_count": 51,
     "metadata": {},
     "output_type": "execute_result"
    }
   ],
   "source": [
    "char_query = state_char.query('(BUSCHAR == \"BN\" or BUSCHAR == \"BM\") and EMPSZFI_LABEL != \"All firms\"')\n",
    "char_query.head(18)"
   ]
  },
  {
   "cell_type": "code",
   "execution_count": 52,
   "metadata": {},
   "outputs": [
    {
     "data": {
      "text/plain": [
       "pandas.core.frame.DataFrame"
      ]
     },
     "execution_count": 52,
     "metadata": {},
     "output_type": "execute_result"
    }
   ],
   "source": [
    "import numpy as np\n",
    "import matplotlib.pyplot as plt\n",
    "   \n",
    "family_query = char_query.query('BUSCHAR == \"BM\"')\n",
    "nonfamily_query = char_query.query('BUSCHAR == \"BN\"')\n",
    "\n",
    "type(family_query)"
   ]
  },
  {
   "cell_type": "code",
   "execution_count": 53,
   "metadata": {},
   "outputs": [
    {
     "data": {
      "image/png": "[encoded data removed]",
      "text/plain": [
       "<Figure size 1080x720 with 1 Axes>"
      ]
     },
     "metadata": {
      "needs_background": "light"
     },
     "output_type": "display_data"
    }
   ],
   "source": [
    "plt.figure(figsize=(15, 10))\n",
    "plt.ticklabel_format(style='plain')\n",
    "plt.bar(np.arange(len(family_query)) - 0.2, family_query['FIRMPDEMP'], width=0.4, color='#5932C4', label='Family Owned')\n",
    "plt.bar(np.arange(len(nonfamily_query)) + 0.2, nonfamily_query['FIRMPDEMP'], width=0.4, color='#C45932', label='Non-Family Owned')\n",
    "simple_labels= ['None', '1 to 4', '5 to 9', '10 to 19', '20 to 49', '50 to 99', '100 to 249', '250 to 499', '500 or more']\n",
    "plt.xticks(range(len(family_query)), simple_labels)\n",
    "# plt.title('Family vs Non Family Owned Businesses By Number of Employees')\n",
    "plt.xlabel('Number of Employees')\n",
    "plt.ylabel('Number of Businesses')\n",
    "plt.legend()\n",
    "\n",
    "plt.show()"
   ]
  }
 ],
 "metadata": {
  "kernelspec": {
   "display_name": "Python 3.9.12 ('base')",
   "language": "python",
   "name": "python3"
  },
  "language_info": {
   "codemirror_mode": {
    "name": "ipython",
    "version": 3
   },
   "file_extension": ".py",
   "mimetype": "text/x-python",
   "name": "python",
   "nbconvert_exporter": "python",
   "pygments_lexer": "ipython3",
   "version": "3.9.12"
  },
  "orig_nbformat": 4,
  "vscode": {
   "interpreter": {
    "hash": "ad2bdc8ecc057115af97d19610ffacc2b4e99fae6737bb82f5d7fb13d2f2c186"
   }
  }
 },
 "nbformat": 4,
 "nbformat_minor": 2
}
